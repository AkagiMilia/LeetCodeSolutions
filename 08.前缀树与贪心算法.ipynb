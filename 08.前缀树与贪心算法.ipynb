{
 "cells": [
  {
   "cell_type": "markdown",
   "metadata": {},
   "source": [
    "## 前缀树\n",
    "![trieNode](images/前缀树与贪心算法-前缀树.png)"
   ]
  },
  {
   "cell_type": "code",
   "execution_count": 1,
   "metadata": {},
   "outputs": [
    {
     "name": "stdout",
     "output_type": "stream",
     "text": [
      " {None: {a: {b: {c: End}}, {c: {b: End}}}, {b: {a: {c: End}}}},\n",
      "passes of first 'a': 3 \n",
      "ends of first 'a': 0\n",
      " {None: {a: {b: {c: End}}, {c: {b: End}}}, {b: {a: {c: End}}, {c: {a: End}}}},\n"
     ]
    }
   ],
   "source": [
    "class TrieNode:\n",
    "  def __init__(self, value) -> None:\n",
    "    self.value = value\n",
    "    self.passes = 0\n",
    "    self.ends = 0\n",
    "    self.nexts = {}\n",
    "\n",
    "class Trie:\n",
    "  def __init__(self, array = None) -> None:\n",
    "    self.root = TrieNode(None)\n",
    "    if array:\n",
    "      self.insert(array)\n",
    "  def insert(self, array):\n",
    "    for word in array:\n",
    "      cur = self.root\n",
    "      cur.passes += 1\n",
    "      for char in word:\n",
    "        if char in cur.nexts:\n",
    "          cur = cur.nexts[char]\n",
    "          cur.passes += 1\n",
    "          continue\n",
    "        cur.nexts[char] = TrieNode(char)\n",
    "        cur = cur.nexts[char]\n",
    "        cur.passes += 1\n",
    "      cur.ends += 1\n",
    "  def printStr(self, node, isEnd = False):\n",
    "    if not node.nexts:\n",
    "      return ' {' + '{}: End'.format(node.value) + '}'\n",
    "\n",
    "    string = ' {' + '{}:'.format(node.value)\n",
    "    length = len(node.nexts.values())\n",
    "    index = 0\n",
    "    for subNode in node.nexts.values():\n",
    "      if index == length - 1:\n",
    "        string += self.printStr(subNode, True)\n",
    "      else:\n",
    "        string += self.printStr(subNode, False)\n",
    "      index += 1\n",
    "    if not isEnd:\n",
    "      string += '},'\n",
    "    else:\n",
    "      string += '}'\n",
    "    return string\n",
    "\n",
    "  def __str__(self) -> str:\n",
    "    return self.printStr(self.root)\n",
    "\n",
    "array = ['abc', 'ab', 'acb', 'bac']\n",
    "theMap = Trie(array)\n",
    "print(theMap)\n",
    "print('passes of first \\'a\\':', theMap.root.nexts['a'].passes, '\\nends of first \\'a\\':', theMap.root.nexts['a'].ends)\n",
    "theMap.insert(['bca'])\n",
    "print(theMap)"
   ]
  },
  {
   "cell_type": "markdown",
   "metadata": {},
   "source": [
    "## 贪心算法\n",
    "在某一个标准下，优先考虑最满足标准的样本，最后考虑最不满足标准的样本，最终得到一个答案的算法，叫作贪心算法。  \n",
    "也就是说，不从整体最优上加以考虑，所做出的是在某种意义上的局部最优解。  "
   ]
  },
  {
   "cell_type": "markdown",
   "metadata": {},
   "source": [
    "### 贪心算法的在笔试时的解题套路\n",
    "1. 实现--个不依靠贪心策略的解法X，可以用最暴力的尝试\n",
    "2. 脑补出贪心策略A、贪心策略B、贪心策略C...\n",
    "3. 用解法X和对数器，去验证每一个贪心策略，用实验的方式得知哪个贪心策略正确\n",
    "4. 不要去纠结贪心策略的证明\n"
   ]
  },
  {
   "cell_type": "markdown",
   "metadata": {},
   "source": [
    "### 例题1 \n",
    "给一个字符串数组，将他们拼成一个字典序最小的大字符串。"
   ]
  },
  {
   "cell_type": "code",
   "execution_count": 2,
   "metadata": {},
   "outputs": [
    {
     "data": {
      "text/plain": [
       "'bab'"
      ]
     },
     "execution_count": 2,
     "metadata": {},
     "output_type": "execute_result"
    }
   ],
   "source": [
    "from functools import cmp_to_key\n",
    "def cmp_smallestOrder(x, y):\n",
    "  return 1 if (x+y) > (y+x) else -1\n",
    "  \n",
    "def smallestOrder(array):\n",
    "  array.sort(key = cmp_to_key(cmp_smallestOrder))\n",
    "\n",
    "array = ['b', 'ba']\n",
    "smallestOrder(array)\n",
    "''.join(array)\n"
   ]
  },
  {
   "cell_type": "markdown",
   "metadata": {},
   "source": [
    "### 例题2\n",
    "一块金条切成两半，是需要花费和长度数值一样的铜板的。  \n",
    "比如长度为20的金条，不管切成长度多大的两半，都要花费20个铜板。  \n",
    "一群人想整分整块金条，怎么分最省铜板?  \n",
    "例如，给定数组{10, 20, 30}，代表一共三个人，整块金条长度为10+20+30=60.  \n",
    "金条要分成10, 20, 30三个部分。如果先把长度60的金条分成10和50，花费60;  \n",
    "再把长度50的金条分成20和30，花费50; 一共花费110铜板。  \n",
    "但是如果先把长度60的金条分成30和30，花费60; 再把长度30金条分成10和20，花费30; 一共花费90铜板。  \n",
    "输入一个数组，返回分割的最小代价。  "
   ]
  },
  {
   "cell_type": "markdown",
   "metadata": {},
   "source": [
    "贪心策略：哈夫曼树"
   ]
  },
  {
   "cell_type": "code",
   "execution_count": 3,
   "metadata": {},
   "outputs": [
    {
     "data": {
      "text/plain": [
       "90"
      ]
     },
     "execution_count": 3,
     "metadata": {},
     "output_type": "execute_result"
    }
   ],
   "source": [
    "from queue import PriorityQueue\n",
    "\n",
    "def cutGold(array):\n",
    "  heap = PriorityQueue()\n",
    "  for num in array:\n",
    "    heap.put(num)\n",
    "  \n",
    "  sum = 0\n",
    "  while heap.qsize() > 1:\n",
    "    cur = heap.get() + heap.get()\n",
    "    sum += cur\n",
    "    heap.put(cur)\n",
    "\n",
    "  return sum\n",
    "array = [10,20,30]\n",
    "cutGold(array)"
   ]
  },
  {
   "cell_type": "markdown",
   "metadata": {},
   "source": [
    "### 例题3 皇后问题\n"
   ]
  },
  {
   "cell_type": "code",
   "execution_count": 5,
   "metadata": {},
   "outputs": [
    {
     "name": "stdout",
     "output_type": "stream",
     "text": [
      "Result: 724\n",
      "Time Cost: 28.10811996459961ms\n"
     ]
    }
   ],
   "source": [
    "class QueenQ:\n",
    "  def __init__(self, n):\n",
    "    if n < 1 or n > 32:\n",
    "      return 0\n",
    "    self.limit = -1 if n == 32 else (1 << n) - 1\n",
    "    self.result = self.process(0,0,0)\n",
    "\n",
    "  def process(self, column, leftLimit, rightLimit):\n",
    "    # 如果所有列都过棋子，返回一次可能\n",
    "    if column == self.limit:\n",
    "      return 1\n",
    "\n",
    "    # 目前可以摆放的位置，1为可摆放，0为不可摆放\n",
    "    slots = self.limit & (~(column | leftLimit | rightLimit))\n",
    "    result = 0\n",
    "    while slots:\n",
    "      # slot目前最右侧第一个1\n",
    "      # e.g slot = 010010, mostRight = 000010\n",
    "      mostRightOne = slots & (~slots + 1)\n",
    "\n",
    "      # e.g slot - mostRight = 010010 - 000010 = 010000\n",
    "      slots -= mostRightOne\n",
    "\n",
    "      # 下次迭代\n",
    "      result += self.process(\n",
    "      column | mostRightOne, \n",
    "      (leftLimit | mostRightOne) << 1,\n",
    "      (rightLimit | mostRightOne) >> 1,\n",
    "      )\n",
    "      \n",
    "    return result\n",
    "\n",
    "import time\n",
    "start = time.time()\n",
    "solve = QueenQ(10)\n",
    "end = time.time()\n",
    "# bin(solve.limit & (~solve.limit + 1))\n",
    "print('Result: {}\\nTime Cost: {}ms'.format(solve.result, (end - start)*1000))"
   ]
  }
 ],
 "metadata": {
  "interpreter": {
   "hash": "e11480129368a01d12ff42b6e4a7be8d8b7191c75541135fdb1878e8ab2c7bd4"
  },
  "kernelspec": {
   "display_name": "Python 3.9.8 64-bit",
   "language": "python",
   "name": "python3"
  },
  "language_info": {
   "codemirror_mode": {
    "name": "ipython",
    "version": 3
   },
   "file_extension": ".py",
   "mimetype": "text/x-python",
   "name": "python",
   "nbconvert_exporter": "python",
   "pygments_lexer": "ipython3",
   "version": "3.9.7"
  },
  "orig_nbformat": 4
 },
 "nbformat": 4,
 "nbformat_minor": 2
}
