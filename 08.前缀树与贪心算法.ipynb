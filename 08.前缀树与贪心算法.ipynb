{
 "cells": [
  {
   "cell_type": "markdown",
   "metadata": {},
   "source": [
    "## 前缀树\n",
    "![trieNode](images/前缀树与贪心算法-前缀树.png)"
   ]
  },
  {
   "cell_type": "code",
   "execution_count": 29,
   "metadata": {},
   "outputs": [
    {
     "name": "stdout",
     "output_type": "stream",
     "text": [
      " {None: {a: {b: {c: End}}, {c: {b: End}}}, {b: {a: {c: End}}}},\n",
      "passes of first 'a': 3 \n",
      "ends of first 'a': 0\n",
      " {None: {a: {b: {c: End}}, {c: {b: End}}}, {b: {a: {c: End}}, {c: {a: End}}}},\n"
     ]
    }
   ],
   "source": [
    "class TrieNode:\n",
    "  def __init__(self, value) -> None:\n",
    "    self.value = value\n",
    "    self.passes = 0\n",
    "    self.ends = 0\n",
    "    self.nexts = {}\n",
    "\n",
    "class Trie:\n",
    "  def __init__(self, array = None) -> None:\n",
    "    self.root = TrieNode(None)\n",
    "    if array:\n",
    "      self.insert(array)\n",
    "  def insert(self, array):\n",
    "    for word in array:\n",
    "      cur = self.root\n",
    "      cur.passes += 1\n",
    "      for char in word:\n",
    "        if char in cur.nexts:\n",
    "          cur = cur.nexts[char]\n",
    "          cur.passes += 1\n",
    "          continue\n",
    "        cur.nexts[char] = TrieNode(char)\n",
    "        cur = cur.nexts[char]\n",
    "        cur.passes += 1\n",
    "      cur.ends += 1\n",
    "  def printStr(self, node, isEnd = False):\n",
    "    if not node.nexts:\n",
    "      return ' {' + '{}: End'.format(node.value) + '}'\n",
    "\n",
    "    string = ' {' + '{}:'.format(node.value)\n",
    "    length = len(node.nexts.values())\n",
    "    index = 0\n",
    "    for subNode in node.nexts.values():\n",
    "      if index == length - 1:\n",
    "        string += self.printStr(subNode, True)\n",
    "      else:\n",
    "        string += self.printStr(subNode, False)\n",
    "      index += 1\n",
    "    if not isEnd:\n",
    "      string += '},'\n",
    "    else:\n",
    "      string += '}'\n",
    "    return string\n",
    "\n",
    "  def __str__(self) -> str:\n",
    "    return self.printStr(self.root)\n",
    "\n",
    "array = ['abc', 'ab', 'acb', 'bac']\n",
    "theMap = Trie(array)\n",
    "print(theMap)\n",
    "print('passes of first \\'a\\':', theMap.root.nexts['a'].passes, '\\nends of first \\'a\\':', theMap.root.nexts['a'].ends)\n",
    "theMap.insert(['bca'])\n",
    "print(theMap)"
   ]
  },
  {
   "cell_type": "markdown",
   "metadata": {},
   "source": [
    "## 贪心算法\n",
    "在某一个标准下，优先考虑最满足标准的样本，最后考虑最不满足标准的样本，最终得到一个答案的算法，叫作贪心算法。  \n",
    "也就是说，不从整体最优上加以考虑，所做出的是在某种意义上的局部最优解。  "
   ]
  },
  {
   "cell_type": "markdown",
   "metadata": {},
   "source": [
    "### 贪心算法的在笔试时的解题套路\n",
    "1. 实现--个不依靠贪心策略的解法X，可以用最暴力的尝试\n",
    "2. 脑补出贪心策略A、贪心策略B、贪心策略C...\n",
    "3. 用解法X和对数器，去验证每一个贪心策略，用实验的方式得知哪个贪心策略正确\n",
    "4. 不要去纠结贪心策略的证明\n"
   ]
  },
  {
   "cell_type": "markdown",
   "metadata": {},
   "source": [
    "### 例题1 \n",
    "给一个字符串数组，将他们拼成一个字典序最小的大字符串。"
   ]
  },
  {
   "cell_type": "code",
   "execution_count": 37,
   "metadata": {},
   "outputs": [
    {
     "data": {
      "text/plain": [
       "'bab'"
      ]
     },
     "execution_count": 37,
     "metadata": {},
     "output_type": "execute_result"
    }
   ],
   "source": [
    "from functools import cmp_to_key\n",
    "def cmp_smallestOrder(x, y):\n",
    "  return 1 if (x+y) > (y+x) else -1\n",
    "  \n",
    "def smallestOrder(array):\n",
    "  array.sort(key = cmp_to_key(cmp_smallestOrder))\n",
    "\n",
    "array = ['b', 'ba']\n",
    "smallestOrder(array)\n",
    "''.join(array)\n"
   ]
  }
 ],
 "metadata": {
  "interpreter": {
   "hash": "e11480129368a01d12ff42b6e4a7be8d8b7191c75541135fdb1878e8ab2c7bd4"
  },
  "kernelspec": {
   "display_name": "Python 3.9.8 64-bit",
   "language": "python",
   "name": "python3"
  },
  "language_info": {
   "codemirror_mode": {
    "name": "ipython",
    "version": 3
   },
   "file_extension": ".py",
   "mimetype": "text/x-python",
   "name": "python",
   "nbconvert_exporter": "python",
   "pygments_lexer": "ipython3",
   "version": "3.9.8"
  },
  "orig_nbformat": 4
 },
 "nbformat": 4,
 "nbformat_minor": 2
}
