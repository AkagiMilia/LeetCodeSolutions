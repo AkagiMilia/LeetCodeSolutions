{
 "cells": [
  {
   "cell_type": "markdown",
   "metadata": {},
   "source": [
    "## 前缀树\n",
    "![trieNode](images/前缀树与贪心算法-前缀树.png)"
   ]
  },
  {
   "cell_type": "code",
   "execution_count": 27,
   "metadata": {},
   "outputs": [
    {
     "name": "stdout",
     "output_type": "stream",
     "text": [
      " {None: {a: {b: {c: End}}, {c: {b: End}}}, {b: {a: {c: End}}}},\n",
      "passes of first 'a': 3 \n",
      "ends of first 'a': 0\n"
     ]
    }
   ],
   "source": [
    "class TrieNode:\n",
    "  def __init__(self, value) -> None:\n",
    "    self.value = value\n",
    "    self.passes = 0\n",
    "    self.ends = 0\n",
    "    self.nexts = {}\n",
    "\n",
    "class Trie:\n",
    "  def __init__(self, array) -> None:\n",
    "    self.root = TrieNode(None)\n",
    "    \n",
    "    for word in array:\n",
    "      cur = self.root\n",
    "      cur.passes += 1\n",
    "      for char in word:\n",
    "        if char in cur.nexts:\n",
    "          cur = cur.nexts[char]\n",
    "          cur.passes += 1\n",
    "          continue\n",
    "        cur.nexts[char] = TrieNode(char)\n",
    "        cur = cur.nexts[char]\n",
    "        cur.passes += 1\n",
    "      cur.ends += 1\n",
    "\n",
    "  def printStr(self, node, isEnd = False):\n",
    "    if not node.nexts:\n",
    "      return ' {' + '{}: End'.format(node.value) + '}'\n",
    "\n",
    "    string = ' {' + '{}:'.format(node.value)\n",
    "    length = len(node.nexts.values())\n",
    "    index = 0\n",
    "    for subNode in node.nexts.values():\n",
    "      if index == length - 1:\n",
    "        string += self.printStr(subNode, True)\n",
    "      else:\n",
    "        string += self.printStr(subNode, False)\n",
    "      index += 1\n",
    "    if not isEnd:\n",
    "      string += '},'\n",
    "    else:\n",
    "      string += '}'\n",
    "    return string\n",
    "\n",
    "  def __str__(self) -> str:\n",
    "    return self.printStr(self.root)\n",
    "\n",
    "array = ['abc', 'ab', 'acb', 'bac']\n",
    "theMap = Trie(array)\n",
    "print(theMap)\n",
    "print('passes of first \\'a\\':', theMap.root.nexts['a'].passes, '\\nends of first \\'a\\':', theMap.root.nexts['a'].ends)"
   ]
  }
 ],
 "metadata": {
  "interpreter": {
   "hash": "e11480129368a01d12ff42b6e4a7be8d8b7191c75541135fdb1878e8ab2c7bd4"
  },
  "kernelspec": {
   "display_name": "Python 3.9.8 64-bit",
   "language": "python",
   "name": "python3"
  },
  "language_info": {
   "codemirror_mode": {
    "name": "ipython",
    "version": 3
   },
   "file_extension": ".py",
   "mimetype": "text/x-python",
   "name": "python",
   "nbconvert_exporter": "python",
   "pygments_lexer": "ipython3",
   "version": "3.9.8"
  },
  "orig_nbformat": 4
 },
 "nbformat": 4,
 "nbformat_minor": 2
}
