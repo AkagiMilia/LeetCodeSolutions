{
 "cells": [
  {
   "cell_type": "markdown",
   "metadata": {},
   "source": [
    "## 暴力递归就是尝试\n",
    "1. 把问题转化为规模缩小了的同类问题的子问题\n",
    "2. 有明确的不需要继续进行递归的条件 (base case)\n",
    "3. 有当得到了子问题的结果之后的決策过程\n",
    "4. 不记录每一个子问题的解  \n",
    "一定要学会怎么去尝试，因为这是动态规划的基础"
   ]
  },
  {
   "cell_type": "markdown",
   "metadata": {},
   "source": [
    "### 例题1\n",
    "### 汉诺塔问题  \n",
    "打印n层汉诺塔从最左边移动到最右边的全部过程\n",
    "![tower](images/暴力递归-汉诺塔.png)"
   ]
  },
  {
   "cell_type": "code",
   "execution_count": 6,
   "metadata": {},
   "outputs": [
    {
     "name": "stdout",
     "output_type": "stream",
     "text": [
      "move 1 from 左 to 右\n",
      "move 2 from 左 to 中\n",
      "move 1 from 右 to 中\n",
      "move 3 from 左 to 右\n",
      "move 1 from 中 to 左\n",
      "move 2 from 中 to 右\n",
      "move 1 from 左 to 右\n"
     ]
    }
   ],
   "source": [
    "def hanoi(i, start, to, other):\n",
    "    if i == 1:\n",
    "        print('move {} from {} to {}'.format(i, start, to))\n",
    "    else:\n",
    "        hanoi(i - 1, start, other, to)\n",
    "        print('move {} from {} to {}'.format(i, start, to))\n",
    "        hanoi(i - 1, other, to, start)\n",
    "\n",
    "hanoi(3, '左', '右', '中')"
   ]
  },
  {
   "cell_type": "markdown",
   "metadata": {},
   "source": [
    "### 例题2\n",
    "打印一个字符串的全部子序列，包括空字符串  "
   ]
  },
  {
   "cell_type": "code",
   "execution_count": 12,
   "metadata": {},
   "outputs": [
    {
     "name": "stdout",
     "output_type": "stream",
     "text": [
      "abc  ab  ac  a  bc  b  c  None  "
     ]
    }
   ],
   "source": [
    "def printSub(str):\n",
    "    length = len(str)\n",
    "    def process(subStr, i):\n",
    "        if i == length:\n",
    "            print(subStr if subStr else 'None', end='  ')\n",
    "            return\n",
    "        process(subStr+str[i], i+1)\n",
    "        process(subStr, i+1)\n",
    "    \n",
    "    process('', 0)\n",
    "\n",
    "printSub('abc')\n",
    "        \n"
   ]
  },
  {
   "cell_type": "markdown",
   "metadata": {},
   "source": [
    "### 例题3\n",
    "打印一个字符串的全部排列"
   ]
  },
  {
   "cell_type": "code",
   "execution_count": 16,
   "metadata": {},
   "outputs": [
    {
     "name": "stdout",
     "output_type": "stream",
     "text": [
      "abc  acb  bac  bca  cba  cab  "
     ]
    }
   ],
   "source": [
    "def allSubStr(str):\n",
    "    array = list(str)\n",
    "    length = len(array)\n",
    "    def process(array, i):\n",
    "        if i == length:\n",
    "            print(''.join(array), end='  ')\n",
    "            return\n",
    "        for j in range(i, length):\n",
    "            array[i], array[j] = array[j], array[i]\n",
    "            process(array, i+1)\n",
    "            array[i], array[j] = array[j], array[i]\n",
    "    process(array, 0)\n",
    "\n",
    "allSubStr('abc')"
   ]
  },
  {
   "cell_type": "markdown",
   "metadata": {},
   "source": [
    "### 例题4\n",
    "给定一个整型数组arr，代表数值不同的纸牌排成一条线。玩家A和玩家B依次拿走每张纸牌，规定玩家A先拿，玩家B后拿，但是每个玩家每次只能拿走最左或最右的纸牌，玩家A和玩家B都绝顶聪明。请返回最后获胜者的分数。  \n",
    "**【举例】**  \n",
    "arr=[1,2, 100,4】  \n",
    "开始时，玩家A只能拿走1或4。如果开始时玩家A拿走1，则排列变为 [2,100,4]  \n",
    "接下来玩家 B可以拿走2或4，然后继续轮到玩家A.  \n",
    "如果开始时玩家A拿走4，则排列变为[1,2,100]，接下来玩家B可以拿走1或100，然后继续轮到玩家A.  \n",
    "玩家A作为绝顶聪明的人不会先拿4，因为拿4之后，玩家B将拿走100。所以玩家A会先拿1，让排列变为 [2,100,4]，  \n",
    "接下来玩家B不管怎么选，100都会被玩家 A拿走。玩家A会获胜，分数为101。所以返回101。  \n",
    "arr=[1,100,2]  \n",
    "开始时，玩家A不管拿1还是2，玩家B作为绝顶聪明的人，都会把100拿走。玩家B会获胜，  \n",
    "分数为100。所以返回100。  "
   ]
  },
  {
   "cell_type": "code",
   "execution_count": 22,
   "metadata": {},
   "outputs": [
    {
     "name": "stdout",
     "output_type": "stream",
     "text": [
      "100\n",
      "104\n"
     ]
    }
   ],
   "source": [
    "def winMax(nums):\n",
    "    def first(nums, L, R):\n",
    "        if L == R:\n",
    "            return nums[L]\n",
    "        return max(nums[L] + second(nums, L+1, R), nums[R] + second(nums, L, R-1))\n",
    "    def second(nums, L, R):\n",
    "        if L == R:\n",
    "            return 0\n",
    "        return min(first(nums, L+1, R), first(nums, L, R-1))\n",
    "    \n",
    "    return max(first(nums, 0, len(nums)-1), second(nums, 0, len(nums)-1))\n",
    "print(winMax([1,100,2]))\n",
    "print(winMax([1,100,2,4]))"
   ]
  },
  {
   "cell_type": "markdown",
   "metadata": {},
   "source": [
    "### 例题5\n",
    "给你一个栈，请你逆序这个栈，不能申请额外的数据结构，只能使用递归函数。如何实现？  "
   ]
  },
  {
   "cell_type": "code",
   "execution_count": 43,
   "metadata": {},
   "outputs": [
    {
     "data": {
      "text/plain": [
       "[3, 2, 1]"
      ]
     },
     "execution_count": 43,
     "metadata": {},
     "output_type": "execute_result"
    }
   ],
   "source": [
    "def stackReverse(stack):\n",
    "    def theEnd(stack):\n",
    "        temp = stack.pop()\n",
    "        if not stack:\n",
    "            return temp\n",
    "        result = theEnd(stack)\n",
    "        stack.append(temp)\n",
    "        return result\n",
    "    \n",
    "    def reverse(stack):\n",
    "        if not stack:\n",
    "            return\n",
    "        last = theEnd(stack)\n",
    "        reverse(stack)\n",
    "        stack.append(last)\n",
    "    \n",
    "    reverse(stack)\n",
    "\n",
    "stack = [i for i in range(1, 4)]\n",
    "stackReverse(stack)\n",
    "stack\n",
    "\n"
   ]
  },
  {
   "cell_type": "markdown",
   "metadata": {},
   "source": [
    "### 例题6\n",
    "规定1和A对应、2和B对应、3和C对应. .  \n",
    "那么一个数字字符串比如\"111\"，就可以转化为\"AAA\"、\"KA\"和\"AK\"。（11代表K）  \n",
    "给定一个只有数字字符组成的宇符串str，返回有多少种转化结果。  "
   ]
  },
  {
   "cell_type": "code",
   "execution_count": 51,
   "metadata": {},
   "outputs": [
    {
     "data": {
      "text/plain": [
       "3"
      ]
     },
     "execution_count": 51,
     "metadata": {},
     "output_type": "execute_result"
    }
   ],
   "source": [
    "def numConvert(str):\n",
    "    length = len(str)\n",
    "    def process(str, i):\n",
    "        if i == length:\n",
    "            return 1\n",
    "        if str[i] == '0':\n",
    "            return 0\n",
    "        result = process(str, i+1)\n",
    "        if i+1 < length and int(str[i]+str[i+1]) <= 26:\n",
    "            result += process(str, i+2)\n",
    "        return result\n",
    "    \n",
    "    return process(str, 0)\n",
    "\n",
    "numConvert('111')"
   ]
  },
  {
   "cell_type": "markdown",
   "metadata": {},
   "source": [
    "### 例题7\n",
    "给定两个长度都为N的数组weights和values, weights[i] 和values[i]分别代表i号物品的重量和价值。  \n",
    "给定一个正数bag,表示一个载重bag的袋子，你装的物品不能超过这个重量。  \n",
    "返回你能装下最多的价值是多少？"
   ]
  },
  {
   "cell_type": "code",
   "execution_count": 60,
   "metadata": {},
   "outputs": [
    {
     "data": {
      "text/plain": [
       "50"
      ]
     },
     "execution_count": 60,
     "metadata": {},
     "output_type": "execute_result"
    }
   ],
   "source": [
    "def bestValue(weights, values, vol):\n",
    "    length = len(weights)\n",
    "    if not length == len(values):\n",
    "        return 0\n",
    "    \n",
    "    def process(nowWeight, i):\n",
    "        if nowWeight > vol:\n",
    "            return 0\n",
    "        if i == length:\n",
    "            return 0\n",
    "        value1 = process(nowWeight, i+1)\n",
    "        value2 = process(nowWeight + weights[i], i+1) + values[i] if nowWeight + weights[i] <= vol else 0\n",
    "        return max(value1, value2)\n",
    "        \n",
    "    \n",
    "    return process(0, 0)\n",
    "\n",
    "weights = [10,20,30]\n",
    "values = [10,30,20]\n",
    "bestValue(weights, values, 50)\n"
   ]
  }
 ],
 "metadata": {
  "interpreter": {
   "hash": "aee8b7b246df8f9039afb4144a1f6fd8d2ca17a180786b69acc140d282b71a49"
  },
  "kernelspec": {
   "display_name": "Python 3.9.7 64-bit",
   "language": "python",
   "name": "python3"
  },
  "language_info": {
   "codemirror_mode": {
    "name": "ipython",
    "version": 3
   },
   "file_extension": ".py",
   "mimetype": "text/x-python",
   "name": "python",
   "nbconvert_exporter": "python",
   "pygments_lexer": "ipython3",
   "version": "3.9.7"
  },
  "orig_nbformat": 4
 },
 "nbformat": 4,
 "nbformat_minor": 2
}
