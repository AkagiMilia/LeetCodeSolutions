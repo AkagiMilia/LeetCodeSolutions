{
 "cells": [
  {
   "cell_type": "markdown",
   "metadata": {},
   "source": [
    "## 哈希函数\n",
    "### 特征\n",
    "1. 无限输入->有限输出域\n",
    "2. 相同输入->相同输出\n",
    "3. 低概率不同输入->相同输出\n",
    "4. 输出离散且均匀\n"
   ]
  },
  {
   "cell_type": "markdown",
   "metadata": {},
   "source": [
    "### 例题1\n",
    "在一个大文件中，有40亿个无符号整数，整数的范围在0～$2^{32}$。  \n",
    "请用1GB内存完成统计出现最多次数的数是哪一个。  "
   ]
  },
  {
   "cell_type": "markdown",
   "metadata": {},
   "source": [
    "### 例题2 设计RandomPool结构\n",
    "   \n",
    "设计一种结构，在该结构中有如下三个功能：  \n",
    "`insert (key)`：将某个key加入到该结构，做到不重复加入  \n",
    "`delete (key）`：将原本在结构中的某个key移除  \n",
    "`getRandom ()`：等概率随机返回结构中的任何一个key。  \n",
    "   \n",
    "要求Insert、delete和getRandom方法的时间复杂度都是0(1)  "
   ]
  },
  {
   "cell_type": "code",
   "execution_count": 9,
   "metadata": {},
   "outputs": [
    {
     "name": "stdout",
     "output_type": "stream",
     "text": [
      "{'A': 0, 'B': 1, 'C': 2, 'D': 3}\n",
      "{0: 'A', 1: 'B', 2: 'C', 3: 'D'}\n",
      "\n",
      "{'A': 0, 'B': 1, 'D': 2}\n",
      "{0: 'A', 1: 'B', 2: 'D'}\n",
      "\n"
     ]
    },
    {
     "data": {
      "text/plain": [
       "'D'"
      ]
     },
     "execution_count": 9,
     "metadata": {},
     "output_type": "execute_result"
    }
   ],
   "source": [
    "import random\n",
    "\n",
    "class RandomPool:\n",
    "    def __init__(self):\n",
    "        self.size = 0\n",
    "        self.map1 = {}\n",
    "        self.map2 = {}\n",
    "    \n",
    "    def insert(self, str):\n",
    "        self.map1[str] = self.size\n",
    "        self.map2[self.size] = str\n",
    "        self.size += 1\n",
    "    \n",
    "    def delete(self, str):\n",
    "        index = self.map1[str]\n",
    "        lastStr = self.map2[self.size - 1]\n",
    "\n",
    "        self.map1[lastStr] = index\n",
    "        del self.map1[str]\n",
    "        self.map2[index] = lastStr\n",
    "        del self.map2[self.size - 1]\n",
    "\n",
    "        self.size -= 1\n",
    "    \n",
    "    def getRandom(self):\n",
    "        index = random.randint(0, self.size-1)\n",
    "        return self.map2[index]\n",
    "\n",
    "rp = RandomPool()\n",
    "arr = ['A', 'B', 'C', 'D']\n",
    "\n",
    "for chr in arr:\n",
    "    rp.insert(chr)\n",
    "print(rp.map1)\n",
    "print(rp.map2)\n",
    "print()\n",
    "\n",
    "rp.delete('C')\n",
    "print(rp.map1)\n",
    "print(rp.map2)\n",
    "print()\n",
    "\n",
    "rp.getRandom()\n"
   ]
  },
  {
   "cell_type": "markdown",
   "metadata": {},
   "source": [
    "## 衍生：布隆过滤器\n",
    "用于黑名单查询，必定存在一定失误率\n",
    "### BitMap\n",
    "用标准数组表示bitmap"
   ]
  },
  {
   "cell_type": "code",
   "execution_count": 19,
   "metadata": {},
   "outputs": [
    {
     "name": "stdout",
     "output_type": "stream",
     "text": [
      "0\n",
      "1\n",
      "0b1000000000000000000000000000\n",
      "0\n",
      "0b0\n"
     ]
    }
   ],
   "source": [
    "# 32bit x 10 = 320bit\n",
    "bitMap = [0 for _ in range(10)]\n",
    "\n",
    "# 获取第283位的信息\n",
    "# 第283的位置\n",
    "numIndex = 283 // 32\n",
    "bitIndex = 283 % 32\n",
    "\n",
    "# 获取283的状态\n",
    "state = (bitMap[numIndex] >> bitIndex) & 1\n",
    "print(state)\n",
    "\n",
    "# 把283位的数改成1\n",
    "bitMap[numIndex] = bitMap[numIndex] | (1 << bitIndex)\n",
    "state = (bitMap[numIndex] >> bitIndex) & 1\n",
    "print(state)\n",
    "print(bin(bitMap[numIndex]))\n",
    "\n",
    "# 把283位的数改成0\n",
    "bitMap[numIndex] = bitMap[numIndex] & (~(1 << bitIndex))\n",
    "state = (bitMap[numIndex] >> bitIndex) & 1\n",
    "print(state)\n",
    "print(bin(bitMap[numIndex]))\n",
    "\n"
   ]
  },
  {
   "cell_type": "markdown",
   "metadata": {},
   "source": [
    "## 布隆过滤器原理\n",
    "![filter](images/哈希函数与哈希表-布隆过滤器.png)"
   ]
  },
  {
   "cell_type": "markdown",
   "metadata": {},
   "source": [
    "### 公式\n",
    "$n = 样本量$， $p = 失误率$， $m = 需要内存空间$，$k = 哈希函数数量$\n",
    "\n",
    "公示1：$ m = -(n * ln \\ p) \\ / \\ (ln \\ 2)^2$\n",
    "    \n",
    "例如 失误率为万分之一，样本量为100亿，每个样本64字节，则需要大约26GB内存。  \n",
    "   \n",
    "公式2：$ k = ln \\ 2* (m \\ / \\ n)$\n",
    "   \n",
    "公式3：$ p_真 = (1-e^{-(n*k_真 \\ / \\ m_真 )})^{k_真}$"
   ]
  },
  {
   "cell_type": "markdown",
   "metadata": {},
   "source": [
    "## 一致性哈希"
   ]
  },
  {
   "cell_type": "code",
   "execution_count": 30,
   "metadata": {},
   "outputs": [
    {
     "name": "stdout",
     "output_type": "stream",
     "text": [
      "('2a4918f8a1712a97fb3360d91191e286', 's2')\n",
      "('2b3357d90b70edb1773bba13390166c1', 's1')\n",
      "('3c55d34ff977905a713015283bc25e5e', 's2')\n",
      "('583a3463d121548e24fb0df2da0e5490', 's2')\n",
      "('6f1d80ff858025be4dac5f1f26f3edb7', 's1')\n",
      "('70334e4bfe11208d9a975939943914bd', 's1')\n",
      "('7b08126602036179da38b0059fdce34d', 's1')\n",
      "('ca43bc17c500c2baad4ed0d6b9ce71f4', 's1')\n",
      "('cef2393a345ef42beb74c0ae25ee99dc', 's1')\n",
      "('cff850f16499e786b92cb825a79bf173', 's2')\n",
      "('df33c554c56c1703b6f98841fe7df132', 's1')\n",
      "('e988b9b66eb0ae4d5bed10584b8ee74c', 's1')\n",
      "('ee48e6db45763bf71c23e178131f0c9b', 's2')\n"
     ]
    }
   ],
   "source": [
    "import hashlib as hb\n",
    "a = '101'\n",
    "md5 = hb.md5()\n",
    "md5.update(a.encode())\n",
    "md5.hexdigest()\n",
    "from queue import PriorityQueue\n",
    "\n",
    "class Server:\n",
    "    def __init__(self, name:str, ablility:int):\n",
    "        self.md5Codes = []\n",
    "        self.data = []\n",
    "        self.name = name\n",
    "        md5 = hb.md5()\n",
    "        for i in range(ablility):\n",
    "            md5.update((name+str(i)).encode())\n",
    "            self.md5Codes.append(md5.hexdigest())\n",
    "\n",
    "class DataSeparater:\n",
    "    def __init__(self):\n",
    "        self.servers = PriorityQueue()\n",
    "    \n",
    "    def appendServer(self, s:Server):\n",
    "        for code in s.md5Codes:\n",
    "            self.servers.put((code, s.name))\n",
    "    \n",
    "\n",
    "\n",
    "s1 = Server('s1', 8)\n",
    "s2 = Server('s2', 5)\n",
    "dp = DataSeparater()\n",
    "dp.appendServer(s1)\n",
    "dp.appendServer(s2)\n",
    "while not dp.servers.empty():\n",
    "    print(dp.servers.get())\n"
   ]
  },
  {
   "cell_type": "code",
   "execution_count": 41,
   "metadata": {},
   "outputs": [
    {
     "name": "stdout",
     "output_type": "stream",
     "text": [
      "PQ sort time cost:  2.122640609741211 ms\n",
      "Arr sort time cost:  3.888845443725586 ms\n",
      "\n",
      "PQ sort time cost:  16.91293716430664 ms\n",
      "Arr sort time cost:  1.9147396087646484 ms\n",
      "\n",
      "PQ sort time cost:  150.81191062927246 ms\n",
      "Arr sort time cost:  21.432876586914062 ms\n"
     ]
    },
    {
     "data": {
      "text/plain": [
       "<__main__.SpeedTest at 0x7f7d89b85a60>"
      ]
     },
     "execution_count": 41,
     "metadata": {},
     "output_type": "execute_result"
    }
   ],
   "source": [
    "import time\n",
    "class SpeedTest:\n",
    "    def __init__(self, n):\n",
    "        self.randoms = []\n",
    "        self.pq = PriorityQueue()\n",
    "        self.arr = []\n",
    "        for _ in range(n):\n",
    "            self.randoms.append(random.randint(0,n))\n",
    "\n",
    "        start = time.time()\n",
    "        self.pqSort()\n",
    "        end = time.time()\n",
    "        print('PQ sort time cost: ', (end - start)*1000, 'ms')\n",
    "\n",
    "        start = time.time()\n",
    "        self.arrSort()\n",
    "        end = time.time()\n",
    "        print('Arr sort time cost: ', (end - start)*1000, 'ms')\n",
    "\n",
    "    \n",
    "\n",
    "    def pqSort(self):\n",
    "        for num in self.randoms:\n",
    "            self.pq.put(num)\n",
    "    \n",
    "    def arrSort(self):\n",
    "        for num in self.randoms:\n",
    "            self.arr.append(num)\n",
    "        self.arr.sort()\n",
    "\n",
    "SpeedTest(1000)\n",
    "print()\n",
    "SpeedTest(10000)\n",
    "print()\n",
    "SpeedTest(100000)\n",
    "        "
   ]
  }
 ],
 "metadata": {
  "interpreter": {
   "hash": "aee8b7b246df8f9039afb4144a1f6fd8d2ca17a180786b69acc140d282b71a49"
  },
  "kernelspec": {
   "display_name": "Python 3.9.7 64-bit",
   "language": "python",
   "name": "python3"
  },
  "language_info": {
   "codemirror_mode": {
    "name": "ipython",
    "version": 3
   },
   "file_extension": ".py",
   "mimetype": "text/x-python",
   "name": "python",
   "nbconvert_exporter": "python",
   "pygments_lexer": "ipython3",
   "version": "3.9.7"
  },
  "orig_nbformat": 4
 },
 "nbformat": 4,
 "nbformat_minor": 2
}
