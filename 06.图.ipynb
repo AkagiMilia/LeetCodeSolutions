{
 "cells": [
  {
   "cell_type": "markdown",
   "metadata": {},
   "source": [
    "# 图\n",
    "## 图的存储方式\n",
    "1. 邻接表  \n",
    "![list](images/图-邻接表法.png)\n",
    "2. 邻接矩阵  \n",
    "![matrix](images/图-邻接矩阵法.png)  \n"
   ]
  },
  {
   "cell_type": "markdown",
   "metadata": {},
   "source": [
    "## 图的表达与生成"
   ]
  },
  {
   "cell_type": "code",
   "execution_count": 19,
   "metadata": {},
   "outputs": [],
   "source": [
    "class graph:\n",
    "  def __init__(self) -> None:\n",
    "    self.nodes = {}     # int:node\n",
    "    self.edges = set()  \n",
    "  def __str__(self):\n",
    "    printStr = ''\n",
    "    for edge in self.edges:\n",
    "      printStr += '{}--{}-->{}\\t'.format(edge.fromNode.value, edge.weight, edge.toNode.value)\n",
    "    return printStr\n",
    "\n",
    "class node:\n",
    "  def __init__(self, value) -> None:\n",
    "    self.value = value\n",
    "    self.ins = 0\n",
    "    self.outs = 0\n",
    "    self.nexts = []     # node\n",
    "    self.edges = []     # edge\n",
    "      \n",
    "  def __str__(self) -> str:\n",
    "    printStr = 'Node: {}\\n'.format(self.value)\n",
    "    printStr += 'Ins: {}\\tOuts: {}\\n'.format(self.ins, self.outs)\n",
    "    printStr += 'Next Nodes: '\n",
    "    for nex in self.nexts:\n",
    "      printStr += '{} '.format(nex.value)\n",
    "    printStr += '\\n'\n",
    "    return printStr\n",
    "\n",
    "class edge:\n",
    "  def __init__(self, weight, fromNode:node, toNode:node) -> None:\n",
    "    self.weight = weight\n",
    "    self.fromNode = fromNode\n",
    "    self.toNode = toNode\n",
    "  def __str__(self):\n",
    "    return '{}--{}-->{}\\t'.format(self.fromNode.value, self.weight, self.toNode.value)\n",
    "\n"
   ]
  },
  {
   "cell_type": "markdown",
   "metadata": {},
   "source": [
    "### 数组转化案例"
   ]
  },
  {
   "cell_type": "code",
   "execution_count": 20,
   "metadata": {},
   "outputs": [
    {
     "name": "stdout",
     "output_type": "stream",
     "text": [
      "C--3-->A\tA--5-->B\tB--4-->C\t\n"
     ]
    }
   ],
   "source": [
    "theMap = [[5, 'A', 'B'], [4, 'B', 'C'], [3, 'C', 'A']]\n",
    "\n",
    "def convertMap(theMap):\n",
    "  newGraph = graph()\n",
    "  for msg in theMap:\n",
    "    weight = msg[0]\n",
    "    fromName = msg[1]\n",
    "    toName = msg[2]\n",
    "\n",
    "    if not fromName in newGraph.nodes:\n",
    "      newGraph.nodes[fromName] = node(fromName)\n",
    "    if not toName in newGraph.nodes:\n",
    "      newGraph.nodes[toName] = node(toName)\n",
    "    \n",
    "    fromNode = newGraph.nodes[fromName]\n",
    "    toNode = newGraph.nodes[toName]\n",
    "\n",
    "    newEdge = edge(weight, fromNode, toNode)\n",
    "    fromNode.nexts.append(toNode)\n",
    "    fromNode.outs += 1\n",
    "    toNode.ins += 1\n",
    "    fromNode.edges.append(newEdge)\n",
    "    newGraph.edges.add(newEdge)\n",
    "  return newGraph\n",
    "\n",
    "map1 = convertMap(theMap)\n",
    "print(map1)\n",
    "\n",
    "    \n",
    "  "
   ]
  },
  {
   "cell_type": "markdown",
   "metadata": {},
   "source": [
    "## 宽度优先遍历\n",
    "1. 利用队列实现\n",
    "2. 从源节点开始依次按照宽度进队列，然后弹出，\n",
    "3. 每弹出一个点，把该节点所有没有进过队列的邻接点放入队列.\n",
    "4. 直到队列变空"
   ]
  },
  {
   "cell_type": "code",
   "execution_count": 21,
   "metadata": {},
   "outputs": [
    {
     "name": "stdout",
     "output_type": "stream",
     "text": [
      "A--1-->B\tB--1-->D\tC--1-->F\tB--1-->E\tB--1-->C\tA--1-->C\t\n",
      "A B C D E F \n",
      "Node: A\n",
      "Ins: 0\tOuts: 2\n",
      "Next Nodes: B C \n",
      "\n",
      "Node: B\n",
      "Ins: 1\tOuts: 3\n",
      "Next Nodes: D C E \n",
      "\n",
      "Node: C\n",
      "Ins: 2\tOuts: 1\n",
      "Next Nodes: F \n",
      "\n",
      "Node: D\n",
      "Ins: 1\tOuts: 0\n",
      "Next Nodes: \n",
      "\n",
      "Node: E\n",
      "Ins: 1\tOuts: 0\n",
      "Next Nodes: \n",
      "\n",
      "Node: F\n",
      "Ins: 1\tOuts: 0\n",
      "Next Nodes: \n",
      "\n"
     ]
    }
   ],
   "source": [
    "def mapBFS(head:node):\n",
    "  if not head:\n",
    "    return\n",
    "  \n",
    "  queue = []\n",
    "  record = set()\n",
    "  queue.append(head)\n",
    "  record.add(head)\n",
    "  while queue:\n",
    "    cur = queue.pop(0)\n",
    "    print(cur.value, end=' ')\n",
    "    for nex in cur.nexts:\n",
    "      if not nex in record:\n",
    "        record.add(nex)\n",
    "        queue.append(nex)\n",
    "  print()\n",
    "mapList2 = [\n",
    "  [1, 'A', 'B'],\n",
    "  [1, 'A', 'C'],\n",
    "  [1, 'B', 'D'],\n",
    "  [1, 'B', 'C'],\n",
    "  [1, 'B', 'E'],\n",
    "  [1, 'C', 'F'],\n",
    "]\n",
    "map2 = convertMap(mapList2)\n",
    "print(map2)\n",
    "mapBFS(map2.nodes['A'])\n",
    "for n in map2.nodes.values():\n",
    "  print(n)\n",
    "      \n"
   ]
  },
  {
   "cell_type": "markdown",
   "metadata": {},
   "source": [
    "## 广度(深度)优先遍历\n",
    "1. 利用栈实现\n",
    "2. 从源节点开始把节点按照深度放入栈，然后弹出\n",
    "3. 每弹出一个点，把该节点下一个没有进过栈的邻接点放入栈\n",
    "4. 直到栈变空"
   ]
  },
  {
   "cell_type": "code",
   "execution_count": 22,
   "metadata": {},
   "outputs": [
    {
     "name": "stdout",
     "output_type": "stream",
     "text": [
      "A C F B E D \n"
     ]
    }
   ],
   "source": [
    "def mapDFS(head:node):\n",
    "  if not node:\n",
    "    return\n",
    "  \n",
    "  stack = []\n",
    "  record = set()\n",
    "  stack.append(head)\n",
    "  record.add(head)\n",
    "  while stack:\n",
    "    cur = stack.pop()\n",
    "    print(cur.value, end=' ')\n",
    "    for nex in cur.nexts:\n",
    "      if not nex in record:\n",
    "        record.add(nex)\n",
    "        stack.append(nex)\n",
    "  print()\n",
    "\n",
    "mapDFS(map2.nodes['A'])"
   ]
  },
  {
   "cell_type": "markdown",
   "metadata": {},
   "source": [
    "## 拓扑排序\n",
    "适用范围: 要求有向图，且有入度为0的节点，且没有环  "
   ]
  },
  {
   "cell_type": "code",
   "execution_count": 23,
   "metadata": {},
   "outputs": [
    {
     "name": "stdout",
     "output_type": "stream",
     "text": [
      "A B D C E F "
     ]
    }
   ],
   "source": [
    "def sortTopology(theMap:graph):\n",
    "  inMap = {}\n",
    "  zeroInQueue = []\n",
    "  for _, n in theMap.nodes.items():\n",
    "    inMap[n] = n.ins\n",
    "    if not n.ins:\n",
    "      zeroInQueue.append(n)\n",
    "    \n",
    "  while zeroInQueue:\n",
    "    cur = zeroInQueue.pop(0)\n",
    "    print(cur.value, end=' ')\n",
    "    for n in cur.nexts:\n",
    "      inMap[n] -= 1\n",
    "      if not inMap[n]:\n",
    "        zeroInQueue.append(n)\n",
    "\n",
    "sortTopology(map2)"
   ]
  },
  {
   "cell_type": "markdown",
   "metadata": {},
   "source": [
    "## Kruskal算法\n",
    "针对无向图，找出最小生成树"
   ]
  },
  {
   "cell_type": "code",
   "execution_count": 24,
   "metadata": {},
   "outputs": [
    {
     "name": "stdout",
     "output_type": "stream",
     "text": [
      "C--1-->D\tC--1-->A\tC--1-->B\tA--3-->D\tD--1-->C\tB--2-->A\tD--3-->B\tD--3-->A\tB--1-->C\tA--1-->C\tB--3-->D\tA--2-->B\t\n"
     ]
    }
   ],
   "source": [
    "mapList3 = [\n",
    "  [2, 'A', 'B'], [2, 'B', 'A'],\n",
    "  [1, 'A', 'C'], [1, 'C', 'A'],\n",
    "  [3, 'A', 'D'], [3, 'D', 'A'],\n",
    "  [1, 'B', 'C'], [1, 'C', 'B'],\n",
    "  [3, 'B', 'D'], [3, 'D', 'B'],\n",
    "  [1, 'C', 'D'], [1, 'D', 'C'],\n",
    "  ]\n",
    "map3 = convertMap(mapList3)\n",
    "print(map3)"
   ]
  },
  {
   "cell_type": "code",
   "execution_count": 25,
   "metadata": {},
   "outputs": [
    {
     "name": "stdout",
     "output_type": "stream",
     "text": [
      "C--1-->D\t\n",
      "C--1-->A\t\n",
      "C--1-->B\t\n"
     ]
    }
   ],
   "source": [
    "def Kruskal(theMap:graph):\n",
    "  mapSets = []\n",
    "  for n in theMap.nodes.items():\n",
    "    mapSets.append(set(n))\n",
    "  \n",
    "  edges = list(theMap.edges)\n",
    "  edges.sort(key=lambda x: x.weight)\n",
    "  result = []\n",
    "  for e in edges:\n",
    "    fromNode = e.fromNode\n",
    "    toNode = e.toNode\n",
    "    length = len(mapSets)\n",
    "    for i in range(length):\n",
    "      if fromNode in mapSets[i]:\n",
    "        \n",
    "        if toNode in mapSets[i]:\n",
    "          break\n",
    "        for j in range(length):\n",
    "          if toNode in mapSets[j]:\n",
    "            mapSets[i] = mapSets[i].union(mapSets[j])\n",
    "            result.append(e)\n",
    "            mapSets.pop(j)\n",
    "            break\n",
    "        break\n",
    "  return result\n",
    "        \n",
    "    \n",
    "result = Kruskal(map3)\n",
    "for e in result:\n",
    "  print(e)\n",
    "\n"
   ]
  },
  {
   "cell_type": "markdown",
   "metadata": {},
   "source": [
    "## prim算法\n",
    "针对无向图，找出最小生成树"
   ]
  },
  {
   "cell_type": "markdown",
   "metadata": {},
   "source": [
    "## Dijkstra算法\n",
    "寻找某点去其他点的最短距离  \n",
    "P.S 图中不能有权重为负数的边参与环状结构"
   ]
  },
  {
   "cell_type": "code",
   "execution_count": 26,
   "metadata": {},
   "outputs": [
    {
     "name": "stdout",
     "output_type": "stream",
     "text": [
      "A 0\n",
      "B 2\n",
      "C 1\n",
      "D 2\n"
     ]
    }
   ],
   "source": [
    "def dijkstra(start:node, theMap:graph):\n",
    "  disMap = {start:[0, False]}\n",
    "  for n in theMap.nodes.values():\n",
    "    if not n == start:\n",
    "      disMap[n] = [float('inf'), False]\n",
    "  \n",
    "  disList = list(disMap.items())\n",
    "  disList.sort(key=lambda x : x[1][0])\n",
    "  finding = True\n",
    "  while(finding):\n",
    "    for n, info in disList:\n",
    "      if not info[1]:\n",
    "        base = info[0]\n",
    "        for e in n.edges:\n",
    "          if disMap[e.toNode][0] > base + e.weight:\n",
    "            disMap[e.toNode][0] = base + e.weight\n",
    "        info[1] = True\n",
    "        finding = True\n",
    "        disList.sort(key=lambda x : x[1][0])\n",
    "        break\n",
    "      finding = False\n",
    "  return disMap\n",
    "\n",
    "disMap = dijkstra(list(map3.nodes.values())[0], map3)\n",
    "for n, dis in disMap.items():\n",
    "  print(n.value, dis[0])\n",
    "\n"
   ]
  }
 ],
 "metadata": {
  "interpreter": {
   "hash": "e11480129368a01d12ff42b6e4a7be8d8b7191c75541135fdb1878e8ab2c7bd4"
  },
  "kernelspec": {
   "display_name": "Python 3.9.8 64-bit",
   "language": "python",
   "name": "python3"
  },
  "language_info": {
   "codemirror_mode": {
    "name": "ipython",
    "version": 3
   },
   "file_extension": ".py",
   "mimetype": "text/x-python",
   "name": "python",
   "nbconvert_exporter": "python",
   "pygments_lexer": "ipython3",
   "version": "3.9.8"
  },
  "orig_nbformat": 4
 },
 "nbformat": 4,
 "nbformat_minor": 2
}
