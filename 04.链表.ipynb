{
 "cells": [
  {
   "cell_type": "markdown",
   "metadata": {},
   "source": [
    "## 哈希表\n",
    "### 哈希表的简单介绍\n",
    "1. 哈希表在使用层面上可以理解为一种集合结构\n",
    "2. 如果只有key,没有伴随数据value，可以使用HashSet结构(C++中叫UnOrderedSet)\n",
    "3. 如果既有key，又有伴随数据value，可以使用HashMap结构(C++中叫UnOrderedMap)\n",
    "4. 有无伴随数据，是HashMap和HashSet唯一的区别，底层的实际结构是一回事\n",
    "5. 使用哈希表增(put)、删(remove)、改(put)和查(get)的操作，可以认为时间复杂度为0(1)，但是常数时间比较大\n",
    "6. 放入哈希表的东西，如果是基础类型，内部按值传递，内存占用就是这个东西的大小\n",
    "7. 放入哈希表的东西，如果不是基础类型，内部按引用传递，内存占用是这个东西内存地址的大小  "
   ]
  },
  {
   "cell_type": "markdown",
   "metadata": {},
   "source": [
    "### 有序表的简单介绍\n",
    "1. 有序表在使用层面上可以理解为一种集合结构\n",
    "2. 如果只有key,没有伴随数据value，可以使用TreeSet结构(C++中叫0rder edSet)\n",
    "3. 如果既有key，又有伴随数据va lue,可以使用TreeMap结构(C++中叫0r der edMap)\n",
    "4. 有无伴随数据，是TreeSet和TreeMap唯一的区别，底层的实际结构是一回事\n",
    "5. 有序表和哈希表的区别是，有序表把key按照顺序组织起来，而哈希表完全不组织\n",
    "5. 红黑树、AVL树、size-ba I ance -tree和跳表等都属于有序表结构，只是底层具体实现不同\n",
    "6. 放入有序表的东西，如果是基础类型，内部按值传递，内存占用就是这个东西的大小\n",
    "7. 放入有序表的东西，如果不是基础类型，必须提供比较器，内部按引用传递，内存占用是这个东西内存地址的大小\n",
    "8. 不管是什么底层具体实现，只要是有序表，都有以下固定的基本功能和固定的时间复杂度"
   ]
  },
  {
   "cell_type": "markdown",
   "metadata": {},
   "source": [
    "## 链表\n",
    "### 单向链表"
   ]
  },
  {
   "cell_type": "code",
   "execution_count": 72,
   "metadata": {},
   "outputs": [
    {
     "name": "stdout",
     "output_type": "stream",
     "text": [
      "[1, 2, 3, 4, 5, 6, 7, 8]\n",
      "ListNode {val: 1, next: ListNode {val: 2, next: ListNode {val: 3, next: ListNode {val: 4, next: ListNode {val: 5, next: ListNode {val: 6, next: ListNode {val: 7, next: ListNode {val: 8, next: None}}}}}}}}\n"
     ]
    }
   ],
   "source": [
    "class ListNode():\n",
    "  def __init__(self, val):\n",
    "    if isinstance(val,int):\n",
    "      self.val = val\n",
    "      self.next = None\n",
    "          \n",
    "    elif isinstance(val,list):\n",
    "      self.val = val[0]\n",
    "      self.next = None\n",
    "      cur = self\n",
    "      for i in val[1:]:\n",
    "          cur.next = ListNode(i)\n",
    "          cur = cur.next\n",
    "  \n",
    "  def gatherAttrs(self):\n",
    "    return \", \".join(\"{}: {}\".format(k, getattr(self, k)) for k in self.__dict__.keys())\n",
    "\n",
    "  def __str__(self):\n",
    "    return self.__class__.__name__+\" {\"+\"{}\".format(self.gatherAttrs())+\"}\"\n",
    "  \n",
    "  def toList(self):\n",
    "    cur = self\n",
    "    result = []\n",
    "    while cur:\n",
    "      result.append(cur.val)\n",
    "      cur = cur.next\n",
    "    return result\n",
    "\n",
    "head = ListNode([1,2,3,4,5,[6,7,8]])\n",
    "print(head.toList())\n",
    "print(head)\n"
   ]
  },
  {
   "cell_type": "markdown",
   "metadata": {},
   "source": [
    "### Q1.反转单向链表"
   ]
  },
  {
   "cell_type": "code",
   "execution_count": 73,
   "metadata": {},
   "outputs": [
    {
     "data": {
      "text/plain": [
       "[5, 4, 3, 2, 1]"
      ]
     },
     "execution_count": 73,
     "metadata": {},
     "output_type": "execute_result"
    }
   ],
   "source": [
    "nodes = ListNode([1,2,3,4,5])\n",
    "\n",
    "def reverseNodes(nodes:ListNode):\n",
    "  pre = None\n",
    "  cur = nodes\n",
    "  while cur:\n",
    "    nex = cur.next\n",
    "    cur.next = pre\n",
    "    pre = cur\n",
    "    cur = nex\n",
    "  return pre\n",
    "  \n",
    "result = reverseNodes(nodes)\n",
    "result.toList()"
   ]
  },
  {
   "cell_type": "markdown",
   "metadata": {},
   "source": [
    "### Q2.判断一个链表是否为回文结构\n",
    "\n",
    "题目: 给定一个单链表的头节点head，请判断该链表是否为回文结构。  \n",
    "例子:  \n",
    "|输入|返回|\n",
    "| :- | :-: |\n",
    "| 1->2->1 | true |\n",
    "| 1->2->2->1 | true |\n",
    "| 15->6->15 | true |\n",
    "| 1->2->3 | false |  "
   ]
  },
  {
   "cell_type": "markdown",
   "metadata": {},
   "source": [
    "如果链表长度为N，时间复杂度达到0(N)，额外空间复杂度达到0(1)。"
   ]
  },
  {
   "cell_type": "code",
   "execution_count": 74,
   "metadata": {},
   "outputs": [
    {
     "name": "stdout",
     "output_type": "stream",
     "text": [
      "True\n",
      "True\n",
      "False\n",
      "False\n"
     ]
    }
   ],
   "source": [
    "def isPalindromeO1(nodes:ListNode):\n",
    "  if not nodes or not nodes.next:\n",
    "    return False\n",
    "  \n",
    "  n1 = nodes  # 慢指针\n",
    "  n2 = nodes  # 快指针\n",
    "\n",
    "  # 当n2到达终点时，找到中点n1\n",
    "  while n1.next and n2.next and n2.next.next:\n",
    "    n1 = n1.next\n",
    "    n2 = n2.next.next\n",
    "  \n",
    "  n2 = n1.next\n",
    "  n1.next = None\n",
    "  while n2:\n",
    "    n3 = n2.next\n",
    "    n2.next = n1\n",
    "    n1 = n2\n",
    "    n2 = n3\n",
    "\n",
    "  n3 = n1\n",
    "  n2 = nodes\n",
    "  while n1 and n2:\n",
    "    if not n1.val == n2.val:\n",
    "      return False\n",
    "    n1 = n1.next\n",
    "    n2 = n2.next\n",
    "  return True\n",
    "\n",
    "isPalindromeO1(ListNode([1,2,2,1]))\n",
    "print(isPalindromeO1(ListNode([1,2,2,1])))\n",
    "print(isPalindromeO1(ListNode([1,2,3,2,1])))\n",
    "print(isPalindromeO1(ListNode([1,2,1,1])))\n",
    "print(isPalindromeO1(ListNode([1,2,3,1,1])))"
   ]
  },
  {
   "cell_type": "markdown",
   "metadata": {},
   "source": [
    "### Q3. 复制含有随机指针节点的链表\n",
    "题目: 种特殊的单链表节点类描述如下  \n",
    "class Node {  \n",
    "&ensp;int value;  \n",
    "&ensp;Node next;  \n",
    "&ensp;Node rand;   \n",
    "&ensp;Node (int val) {\"  \n",
    "&ensp;&ensp;value = val;   \n",
    "&ensp;}  \n",
    "rand指针是单链表节点结构中新增的指针，rand可能指向链表中的任意一个节点，也可能指向null。  \n",
    "给定一个由Node节点类型组成的无环单链表的头节点head,请实现一个函数完成这个链表的复制，并返回复制的新链表的头节点。  \n",
    "要求：时间复杂度0(N)，额外空间复杂度0(1)"
   ]
  },
  {
   "cell_type": "code",
   "execution_count": 75,
   "metadata": {},
   "outputs": [],
   "source": [
    "\"\"\"\n",
    "# Definition for a Node.\n",
    "class Node:\n",
    "    def __init__(self, x: int, next: 'Node' = None, random: 'Node' = None):\n",
    "        self.val = int(x)\n",
    "        self.next = next\n",
    "        self.random = random\n",
    "\"\"\"\n",
    "\n",
    "def copyRandomList(self, head: 'Optional[Node]') -> 'Optional[Node]':\n",
    "    if not head:\n",
    "      return None\n",
    "    cur = head\n",
    "    while cur:\n",
    "      nex = cur.next\n",
    "      cur.next = Node(cur.val)\n",
    "      cur.next.next = nex\n",
    "      cur = nex\n",
    "\n",
    "    cur = head\n",
    "    while cur:\n",
    "      curCopy = cur.next\n",
    "      curCopy.random = cur.random.next if cur.random else None\n",
    "      cur = curCopy.next\n",
    "    \n",
    "    curCopy = head.next\n",
    "    while curCopy.next:\n",
    "      curCopy.next = curCopy.next.next\n",
    "      curCopy = curCopy.next\n",
    "    \n",
    "    return head.next"
   ]
  },
  {
   "cell_type": "markdown",
   "metadata": {},
   "source": [
    "### Q3.两个单链表相交的-系列问题\n",
    "题目: 给定两个可能有环也可能无环的单链表，头节点head1和head2。请实现一个函数，如果两个链表相交，请返回相交的第一个节点。如果不相交，返回null  \n",
    "要求: 如果两个链表长度之和为N，时间复杂度请达到0(N)，额外空间复杂度请达到0(1)。"
   ]
  },
  {
   "cell_type": "markdown",
   "metadata": {},
   "source": [
    "### 双向链表"
   ]
  },
  {
   "cell_type": "code",
   "execution_count": 76,
   "metadata": {},
   "outputs": [],
   "source": [
    "class DoubleNode():\n",
    "  def __init__(self, val):\n",
    "    if isinstance(val, int):\n",
    "      self.val = val\n",
    "      self.left = None\n",
    "      self.right = None\n",
    "    if isinstance(val, list):\n",
    "      data = val[:]\n",
    "      self.val = data.pop(0)\n",
    "      queue = [self]\n",
    "      while data:\n",
    "        childs = []\n",
    "        for cur in queue:\n",
    "          left = data.pop(0) if data else None\n",
    "          if not left:\n",
    "            cur.left = None\n",
    "          elif left:\n",
    "            cur.left = DoubleNode(int(left))\n",
    "            childs.append(cur.left)\n",
    "          right = data.pop(0) if data else None\n",
    "          if not right:\n",
    "            cur.right = None\n",
    "          elif right:\n",
    "            cur.right = DoubleNode(int(right))\n",
    "            childs.append(cur.right)\n",
    "        queue = childs\n",
    "\n",
    "head = DoubleNode([1,2,3,4,5,6,7])\n",
    "# head = DoubleNode(1)\n",
    "# head.left = DoubleNode(2)\n",
    "# head.right = DoubleNode(3)\n",
    "# head.left.left = DoubleNode(4)\n",
    "# head.left.right = DoubleNode(5)\n",
    "# head.right.left = DoubleNode(6)\n",
    "# head.right.right = DoubleNode(7)  "
   ]
  },
  {
   "cell_type": "markdown",
   "metadata": {},
   "source": [
    "### 二叉树遍历\n",
    "1. 先序遍历\n",
    "头->左->右\n",
    "2. 中序遍历\n",
    "左->头->右\n",
    "3. 后序遍历\n",
    "左->右->头"
   ]
  },
  {
   "cell_type": "markdown",
   "metadata": {},
   "source": [
    "#### 遍历实现——递归法"
   ]
  },
  {
   "cell_type": "code",
   "execution_count": 77,
   "metadata": {},
   "outputs": [
    {
     "name": "stdout",
     "output_type": "stream",
     "text": [
      "1 2 4 5 3 6 7 \n",
      "4 2 5 1 6 3 7 \n",
      "4 5 2 6 7 3 1 "
     ]
    }
   ],
   "source": [
    "def printTree(head:DoubleNode, mode = 0):\n",
    "  if not head:\n",
    "    return\n",
    "  # 先序遍历\n",
    "  if mode == 0:\n",
    "    print(head.val, end=' ')\n",
    "\n",
    "  printTree(head.left, mode)\n",
    "\n",
    "  # 中序遍历\n",
    "  if mode == 1:\n",
    "    print(head.val, end=' ')\n",
    "\n",
    "  printTree(head.right, mode)\n",
    "\n",
    "  # 后序遍历\n",
    "  if mode == 2:\n",
    "    print(head.val, end=' ')\n",
    "\n",
    "printTree(head, 0)\n",
    "print()\n",
    "printTree(head, 1)\n",
    "print()\n",
    "printTree(head, 2)"
   ]
  },
  {
   "cell_type": "markdown",
   "metadata": {},
   "source": [
    "#### 遍历实现——迭代法"
   ]
  },
  {
   "cell_type": "code",
   "execution_count": 78,
   "metadata": {},
   "outputs": [
    {
     "name": "stdout",
     "output_type": "stream",
     "text": [
      "1 2 4 5 3 6 7 "
     ]
    }
   ],
   "source": [
    "# 先序遍历\n",
    "def printTreeFirst(head:DoubleNode):\n",
    "  \n",
    "  stack = []\n",
    "  stack.append(head)\n",
    "  while stack:\n",
    "    cur = stack.pop()\n",
    "    print(cur.val, end=' ')\n",
    "    if cur.right:\n",
    "      stack.append(cur.right)\n",
    "    if cur.left:\n",
    "      stack.append(cur.left)\n",
    "\n",
    "printTreeFirst(head)"
   ]
  },
  {
   "cell_type": "code",
   "execution_count": 79,
   "metadata": {},
   "outputs": [
    {
     "name": "stdout",
     "output_type": "stream",
     "text": [
      "4 5 2 6 7 3 1 "
     ]
    }
   ],
   "source": [
    "# 后序遍历\n",
    "def printTreeBack(head:DoubleNode):\n",
    "  \n",
    "  stack = []\n",
    "  stack2 = []\n",
    "  stack.append(head)\n",
    "  while stack:\n",
    "    cur = stack.pop()\n",
    "    stack2.append(cur)\n",
    "    if cur.left:\n",
    "      stack.append(cur.left)\n",
    "    if cur.right:\n",
    "      stack.append(cur.right)\n",
    "  \n",
    "  while stack2:\n",
    "    print(stack2.pop().val, end=' ')\n",
    "    \n",
    "\n",
    "printTreeBack(head)"
   ]
  },
  {
   "cell_type": "code",
   "execution_count": 80,
   "metadata": {},
   "outputs": [
    {
     "name": "stdout",
     "output_type": "stream",
     "text": [
      "4 2 5 1 6 3 7 "
     ]
    }
   ],
   "source": [
    "# 中序遍历\n",
    "def printTreeMid(head:DoubleNode):\n",
    "  if head:\n",
    "    stack = []\n",
    "    while stack or head:\n",
    "      if head:\n",
    "        stack.append(head)\n",
    "        head = head.left\n",
    "      else:\n",
    "        head = stack.pop()\n",
    "        print(head.val, end=' ')\n",
    "        head = head.right\n",
    "\n",
    "printTreeMid(head)"
   ]
  },
  {
   "cell_type": "markdown",
   "metadata": {},
   "source": [
    "### 宽度优先遍历"
   ]
  },
  {
   "cell_type": "code",
   "execution_count": 81,
   "metadata": {},
   "outputs": [
    {
     "name": "stdout",
     "output_type": "stream",
     "text": [
      "1 2 3 4 5 6 7 "
     ]
    }
   ],
   "source": [
    "def BreadthFirstSearch(head:DoubleNode):\n",
    "  queue = [head]\n",
    "  while queue:\n",
    "    cur = queue.pop(0)\n",
    "    print(cur.val, end=' ')\n",
    "    if cur.left:\n",
    "      queue.append(cur.left)\n",
    "    if cur.right:\n",
    "      queue.append(cur.right)\n",
    "\n",
    "BreadthFirstSearch(head)"
   ]
  },
  {
   "cell_type": "markdown",
   "metadata": {},
   "source": [
    "#### Q1.统计二叉树最大宽度"
   ]
  },
  {
   "cell_type": "code",
   "execution_count": 82,
   "metadata": {},
   "outputs": [
    {
     "name": "stdout",
     "output_type": "stream",
     "text": [
      "4\n"
     ]
    }
   ],
   "source": [
    "def maxWidth(head:DoubleNode):\n",
    "  levelMap = {}\n",
    "  levelMap[head] = 1\n",
    "  curLevel = 1\n",
    "  curLevelNodes = 0\n",
    "  maxLevelNodes = 0\n",
    "  queue = [head]\n",
    "  \n",
    "  while queue:\n",
    "    cur = queue.pop(0)\n",
    "    if levelMap[cur] == curLevel:\n",
    "      curLevelNodes += 1\n",
    "    else:\n",
    "      maxLevelNodes = max(maxLevelNodes, curLevelNodes)\n",
    "      curLevel += 1\n",
    "      curLevelNodes = 1\n",
    "\n",
    "    if cur.left:\n",
    "      levelMap[cur.left] = curLevel+1\n",
    "      queue.append(cur.left)\n",
    "    if cur.right:\n",
    "      levelMap[cur.right] = curLevel+1\n",
    "      queue.append(cur.right)\n",
    "  \n",
    "  return max(maxLevelNodes, curLevelNodes)\n",
    "\n",
    "print(maxWidth(head))"
   ]
  },
  {
   "cell_type": "markdown",
   "metadata": {},
   "source": [
    "无哈希表"
   ]
  },
  {
   "cell_type": "code",
   "execution_count": 83,
   "metadata": {},
   "outputs": [
    {
     "data": {
      "text/plain": [
       "4"
      ]
     },
     "execution_count": 83,
     "metadata": {},
     "output_type": "execute_result"
    }
   ],
   "source": [
    "def maxWidthNoHash(head:DoubleNode):\n",
    "  \n",
    "  curLevelNodes = 0\n",
    "  maxLevelNodes = 0\n",
    "  queue = [head]\n",
    "  curNodeEnd = head\n",
    "  nextNodeEnd = None\n",
    "  while queue:\n",
    "    cur = queue.pop(0)\n",
    "    curLevelNodes += 1\n",
    "    \n",
    "    if cur.left:\n",
    "      nextNodeEnd = cur.left\n",
    "      queue.append(cur.left)\n",
    "    if cur.right:\n",
    "      nextNodeEnd = cur.right\n",
    "      queue.append(cur.right)\n",
    "\n",
    "    if curNodeEnd == cur:\n",
    "      maxLevelNodes = max(maxLevelNodes, curLevelNodes)\n",
    "      curLevelNodes = 0\n",
    "      curNodeEnd = nextNodeEnd\n",
    "      nextNodeEnd = None\n",
    "  \n",
    "  return max(maxLevelNodes, curLevelNodes)\n",
    "\n",
    "maxWidthNoHash(head)"
   ]
  },
  {
   "cell_type": "markdown",
   "metadata": {},
   "source": [
    "## 二叉树的相关概念及其实现判断\n",
    "\n",
    "1. 如何判断一颗二叉树是否是搜索二叉树?  \n",
    "    子树中左树比头小，右数比头大。  \n",
    "    使用中序遍历遍历二叉树后，如发现数组为完全升序，则为搜索二叉树。  \n",
    "    因此解决方法为修改之前中序遍历的代码，将打印节点值的部分改为判断大小。"
   ]
  },
  {
   "cell_type": "markdown",
   "metadata": {},
   "source": [
    "2. 如何判断一颗二叉树是完全二叉树?  \n",
    "  完全二叉树定义：除了最后一层其它层都是满的，即便最后一层不满，在第一个值与最后一个值之间也不存在空值。  \n",
    "  解决方法：使用宽度优先遍历二叉树，节点必须满足以下条件：  \n",
    "    (1). 节点拥有右孩子的情况下必须有左孩子。  \n",
    "    (2). 在(1)的前提下，发现节点只拥有左孩子或无孩子，那么接下来遇到的节点必须是叶节点（无孩子）。\n"
   ]
  },
  {
   "cell_type": "code",
   "execution_count": 84,
   "metadata": {},
   "outputs": [],
   "source": [
    "def isComplete(root:DoubleNode):\n",
    "  nextLeaf = False\n",
    "  def process(root):\n",
    "    queue = [root]\n",
    "    while queue:\n",
    "      cur = queue.pop(0)\n",
    "      if cur.right and not cur.left:\n",
    "        return False\n",
    "      \n",
    "      if not nextLeaf:\n",
    "        if not (cur.left and cur.right):\n",
    "          nextLeaf = True\n",
    "      else:\n",
    "        if cur.left or cur.right:\n",
    "          return False\n",
    "      if cur.left:\n",
    "        queue.append(cur.left)\n",
    "      if cur.right:\n",
    "        queue.append(cur.right)\n",
    "        "
   ]
  },
  {
   "cell_type": "markdown",
   "metadata": {},
   "source": [
    "3. 如何判断一颗二叉树是否是满二叉树?  \n",
    "4. 如何判断一颗二叉树是否是平衡二叉树? (二叉树题目 套路)  "
   ]
  },
  {
   "cell_type": "code",
   "execution_count": 85,
   "metadata": {},
   "outputs": [],
   "source": [
    "def isBalanced(root: DoubleNode) -> bool:\n",
    "\n",
    "    def process(root):\n",
    "        if not root:\n",
    "            return True, 0\n",
    "        \n",
    "        isLeftBalence, leftHeight = process(root.left)\n",
    "        isRightBalence, RightHeight = process(root.right)\n",
    "\n",
    "        height = max(leftHeight, RightHeight) + 1\n",
    "        if isLeftBalence and isRightBalence and abs(leftHeight-RightHeight) <= 1:\n",
    "            isBalance = True\n",
    "        else:\n",
    "            isBalance = False\n",
    "\n",
    "        return isBalance, height\n",
    "\n",
    "    isBalance, _ = process(root)\n",
    "    return isBalance"
   ]
  }
 ],
 "metadata": {
  "interpreter": {
   "hash": "e11480129368a01d12ff42b6e4a7be8d8b7191c75541135fdb1878e8ab2c7bd4"
  },
  "kernelspec": {
   "display_name": "Python 3.9.8 64-bit",
   "language": "python",
   "name": "python3"
  },
  "language_info": {
   "codemirror_mode": {
    "name": "ipython",
    "version": 3
   },
   "file_extension": ".py",
   "mimetype": "text/x-python",
   "name": "python",
   "nbconvert_exporter": "python",
   "pygments_lexer": "ipython3",
   "version": "3.9.8"
  },
  "orig_nbformat": 4
 },
 "nbformat": 4,
 "nbformat_minor": 2
}
