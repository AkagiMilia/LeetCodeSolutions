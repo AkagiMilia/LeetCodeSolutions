{
 "cells": [
  {
   "cell_type": "markdown",
   "metadata": {},
   "source": [
    "## 哈希表\n",
    "### 哈希表的简单介绍\n",
    "1. 哈希表在使用层面上可以理解为一种集合结构\n",
    "2. 如果只有key,没有伴随数据value，可以使用HashSet结构(C++中叫UnOrderedSet)\n",
    "3. 如果既有key，又有伴随数据value，可以使用HashMap结构(C++中叫UnOrderedMap)\n",
    "4. 有无伴随数据，是HashMap和HashSet唯一的区别，底层的实际结构是一回事\n",
    "5. 使用哈希表增(put)、删(remove)、改(put)和查(get)的操作，可以认为时间复杂度为0(1)，但是常数时间比较大\n",
    "6. 放入哈希表的东西，如果是基础类型，内部按值传递，内存占用就是这个东西的大小\n",
    "7. 放入哈希表的东西，如果不是基础类型，内部按引用传递，内存占用是这个东西内存地址的大小  "
   ]
  },
  {
   "cell_type": "markdown",
   "metadata": {},
   "source": [
    "### 有序表的简单介绍\n",
    "1. 有序表在使用层面上可以理解为一种集合结构\n",
    "2. 如果只有key,没有伴随数据value，可以使用TreeSet结构(C++中叫0rder edSet)\n",
    "3. 如果既有key，又有伴随数据va lue,可以使用TreeMap结构(C++中叫0r der edMap)\n",
    "4. 有无伴随数据，是TreeSet和TreeMap唯一的区别，底层的实际结构是一回事\n",
    "5. 有序表和哈希表的区别是，有序表把key按照顺序组织起来，而哈希表完全不组织\n",
    "5. 红黑树、AVL树、size-ba I ance -tree和跳表等都属于有序表结构，只是底层具体实现不同\n",
    "6. 放入有序表的东西，如果是基础类型，内部按值传递，内存占用就是这个东西的大小\n",
    "7. 放入有序表的东西，如果不是基础类型，必须提供比较器，内部按引用传递，内存占用是这个东西内存地址的大小\n",
    "8. 不管是什么底层具体实现，只要是有序表，都有以下固定的基本功能和固定的时间复杂度"
   ]
  },
  {
   "cell_type": "markdown",
   "metadata": {},
   "source": [
    "## 链表\n",
    "### 单向链表"
   ]
  },
  {
   "cell_type": "code",
   "execution_count": null,
   "metadata": {},
   "outputs": [],
   "source": [
    "class singleNode:\n",
    "  def __init__(self, x):\n",
    "    self.val = x\n",
    "    self.next = None"
   ]
  }
 ],
 "metadata": {
  "language_info": {
   "name": "python"
  },
  "orig_nbformat": 4
 },
 "nbformat": 4,
 "nbformat_minor": 2
}
