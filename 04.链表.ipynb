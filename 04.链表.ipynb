{
 "cells": [
  {
   "cell_type": "markdown",
   "metadata": {},
   "source": [
    "## 哈希表\n",
    "### 哈希表的简单介绍\n",
    "1. 哈希表在使用层面上可以理解为一种集合结构\n",
    "2. 如果只有key,没有伴随数据value，可以使用HashSet结构(C++中叫UnOrderedSet)\n",
    "3. 如果既有key，又有伴随数据value，可以使用HashMap结构(C++中叫UnOrderedMap)\n",
    "4. 有无伴随数据，是HashMap和HashSet唯一的区别，底层的实际结构是一回事\n",
    "5. 使用哈希表增(put)、删(remove)、改(put)和查(get)的操作，可以认为时间复杂度为0(1)，但是常数时间比较大\n",
    "6. 放入哈希表的东西，如果是基础类型，内部按值传递，内存占用就是这个东西的大小\n",
    "7. 放入哈希表的东西，如果不是基础类型，内部按引用传递，内存占用是这个东西内存地址的大小  "
   ]
  },
  {
   "cell_type": "markdown",
   "metadata": {},
   "source": [
    "### 有序表的简单介绍\n",
    "1. 有序表在使用层面上可以理解为一种集合结构\n",
    "2. 如果只有key,没有伴随数据value，可以使用TreeSet结构(C++中叫0rder edSet)\n",
    "3. 如果既有key，又有伴随数据va lue,可以使用TreeMap结构(C++中叫0r der edMap)\n",
    "4. 有无伴随数据，是TreeSet和TreeMap唯一的区别，底层的实际结构是一回事\n",
    "5. 有序表和哈希表的区别是，有序表把key按照顺序组织起来，而哈希表完全不组织\n",
    "5. 红黑树、AVL树、size-ba I ance -tree和跳表等都属于有序表结构，只是底层具体实现不同\n",
    "6. 放入有序表的东西，如果是基础类型，内部按值传递，内存占用就是这个东西的大小\n",
    "7. 放入有序表的东西，如果不是基础类型，必须提供比较器，内部按引用传递，内存占用是这个东西内存地址的大小\n",
    "8. 不管是什么底层具体实现，只要是有序表，都有以下固定的基本功能和固定的时间复杂度"
   ]
  },
  {
   "cell_type": "markdown",
   "metadata": {},
   "source": [
    "## 链表\n",
    "### 单向链表"
   ]
  },
  {
   "cell_type": "code",
   "execution_count": 18,
   "metadata": {},
   "outputs": [
    {
     "name": "stdout",
     "output_type": "stream",
     "text": [
      "[1, 2, 3, 4, 5]\n",
      "ListNode {val: 1, next: ListNode {val: 2, next: ListNode {val: 3, next: ListNode {val: 4, next: ListNode {val: 5, next: None}}}}}\n"
     ]
    }
   ],
   "source": [
    "class ListNode():\n",
    "  def __init__(self, val):\n",
    "    if isinstance(val,int):\n",
    "      self.val = val\n",
    "      self.next = None\n",
    "          \n",
    "    elif isinstance(val,list):\n",
    "      self.val = val[0]\n",
    "      self.next = None\n",
    "      cur = self\n",
    "      for i in val[1:]:\n",
    "          cur.next = ListNode(i)\n",
    "          cur = cur.next\n",
    "  \n",
    "  def gatherAttrs(self):\n",
    "    return \", \".join(\"{}: {}\".format(k, getattr(self, k)) for k in self.__dict__.keys())\n",
    "\n",
    "  def __str__(self):\n",
    "    return self.__class__.__name__+\" {\"+\"{}\".format(self.gatherAttrs())+\"}\"\n",
    "  \n",
    "  def toList(self):\n",
    "    cur = self\n",
    "    result = []\n",
    "    while cur:\n",
    "      result.append(cur.val)\n",
    "      cur = cur.next\n",
    "    return result\n",
    "\n",
    "head = ListNode([1,2,3,4,5])\n",
    "print(head.toList())\n",
    "print(head)\n"
   ]
  },
  {
   "cell_type": "markdown",
   "metadata": {},
   "source": [
    "### Q1.反转单向链表"
   ]
  },
  {
   "cell_type": "code",
   "execution_count": 3,
   "metadata": {},
   "outputs": [
    {
     "data": {
      "text/plain": [
       "[5, 4, 3, 2, 1]"
      ]
     },
     "execution_count": 3,
     "metadata": {},
     "output_type": "execute_result"
    }
   ],
   "source": [
    "nodes = ListNode([1,2,3,4,5])\n",
    "\n",
    "def reverseNodes(nodes:ListNode):\n",
    "  pre = None\n",
    "  cur = nodes\n",
    "  while cur:\n",
    "    nex = cur.next\n",
    "    cur.next = pre\n",
    "    pre = cur\n",
    "    cur = nex\n",
    "  return pre\n",
    "  \n",
    "result = reverseNodes(nodes)\n",
    "result.toList()"
   ]
  },
  {
   "cell_type": "markdown",
   "metadata": {},
   "source": [
    "### Q2.判断一个链表是否为回文结构\n",
    "\n",
    "题目: 给定一个单链表的头节点head，请判断该链表是否为回文结构。  \n",
    "例子:  \n",
    "|输入|返回|\n",
    "| :- | :-: |\n",
    "| 1->2->1 | true |\n",
    "| 1->2->2->1 | true |\n",
    "| 15->6->15 | true |\n",
    "| 1->2->3 | false |  "
   ]
  },
  {
   "cell_type": "markdown",
   "metadata": {},
   "source": [
    "如果链表长度为N，时间复杂度达到0(N)，额外空间复杂度达到0(1)。"
   ]
  },
  {
   "cell_type": "code",
   "execution_count": 16,
   "metadata": {},
   "outputs": [
    {
     "name": "stdout",
     "output_type": "stream",
     "text": [
      "True\n",
      "True\n",
      "False\n",
      "False\n"
     ]
    }
   ],
   "source": [
    "def isPalindromeO1(nodes:ListNode):\n",
    "  if not nodes or not nodes.next:\n",
    "    return False\n",
    "  \n",
    "  n1 = nodes  # 慢指针\n",
    "  n2 = nodes  # 快指针\n",
    "\n",
    "  # 当n2到达终点时，找到中点n1\n",
    "  while n1.next and n2.next and n2.next.next:\n",
    "    n1 = n1.next\n",
    "    n2 = n2.next.next\n",
    "  \n",
    "  n2 = n1.next\n",
    "  n1.next = None\n",
    "  while n2:\n",
    "    n3 = n2.next\n",
    "    n2.next = n1\n",
    "    n1 = n2\n",
    "    n2 = n3\n",
    "\n",
    "  n3 = n1\n",
    "  n2 = nodes\n",
    "  while n1 and n2:\n",
    "    if not n1.val == n2.val:\n",
    "      return False\n",
    "    n1 = n1.next\n",
    "    n2 = n2.next\n",
    "  return True\n",
    "\n",
    "isPalindromeO1(ListNode([1,2,2,1]))\n",
    "print(isPalindromeO1(ListNode([1,2,2,1])))\n",
    "print(isPalindromeO1(ListNode([1,2,3,2,1])))\n",
    "print(isPalindromeO1(ListNode([1,2,1,1])))\n",
    "print(isPalindromeO1(ListNode([1,2,3,1,1])))"
   ]
  },
  {
   "cell_type": "markdown",
   "metadata": {},
   "source": [
    "### Q3. 复制含有随机指针节点的链表\n",
    "题目: 种特殊的单链表节点类描述如下  \n",
    "class Node {  \n",
    "&ensp;int value;  \n",
    "&ensp;Node next;  \n",
    "&ensp;Node rand;   \n",
    "&ensp;Node (int val) {\"  \n",
    "&ensp;&ensp;value = val;   \n",
    "&ensp;}  \n",
    "rand指针是单链表节点结构中新增的指针，rand可能指向链表中的任意一个节点，也可能指向null。  \n",
    "给定一个由Node节点类型组成的无环单链表的头节点head,请实现一个函数完成这个链表的复制，并返回复制的新链表的头节点。  \n",
    "要求：时间复杂度0(N)，额外空间复杂度0(1)"
   ]
  }
 ],
 "metadata": {
  "interpreter": {
   "hash": "e11480129368a01d12ff42b6e4a7be8d8b7191c75541135fdb1878e8ab2c7bd4"
  },
  "kernelspec": {
   "display_name": "Python 3.9.8 64-bit",
   "language": "python",
   "name": "python3"
  },
  "language_info": {
   "codemirror_mode": {
    "name": "ipython",
    "version": 3
   },
   "file_extension": ".py",
   "mimetype": "text/x-python",
   "name": "python",
   "nbconvert_exporter": "python",
   "pygments_lexer": "ipython3",
   "version": "3.9.8"
  },
  "orig_nbformat": 4
 },
 "nbformat": 4,
 "nbformat_minor": 2
}
