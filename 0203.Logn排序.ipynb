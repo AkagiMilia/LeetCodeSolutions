{
 "cells": [
  {
   "cell_type": "markdown",
   "metadata": {},
   "source": [
    "## Tip1. 求数组中点"
   ]
  },
  {
   "cell_type": "code",
   "execution_count": 82,
   "metadata": {},
   "outputs": [
    {
     "data": {
      "text/plain": [
       "2"
      ]
     },
     "execution_count": 82,
     "metadata": {},
     "output_type": "execute_result"
    }
   ],
   "source": [
    "l = 0\n",
    "r = 5\n",
    "mid = l + (r - l)/2\n",
    "int(mid)"
   ]
  },
  {
   "cell_type": "markdown",
   "metadata": {},
   "source": [
    "#### 写法2"
   ]
  },
  {
   "cell_type": "code",
   "execution_count": 83,
   "metadata": {},
   "outputs": [
    {
     "data": {
      "text/plain": [
       "2"
      ]
     },
     "execution_count": 83,
     "metadata": {},
     "output_type": "execute_result"
    }
   ],
   "source": [
    "mid = l + ((r - l) >> 1)\n",
    "mid"
   ]
  },
  {
   "cell_type": "markdown",
   "metadata": {},
   "source": [
    "## Tip2. Master公式\n",
    "$$T(N) = a*T(N/b) + O(N^d)$$\n",
    "$(N/b)$   代表一次递归中子问题N的规模  \n",
    "$a$       代表一次递归中进行子问题的个数  \n",
    "$O(N^d)$  代表递归中其他运算复杂度  "
   ]
  },
  {
   "cell_type": "markdown",
   "metadata": {},
   "source": [
    "$$log_b \\ a < d \\qquad O(N^d)$$\n",
    "$$log_b \\ a > d \\qquad O(N^{log_b a})$$\n",
    "$$log_b \\ a < d \\qquad O(N^d*log N)$$"
   ]
  },
  {
   "cell_type": "markdown",
   "metadata": {},
   "source": [
    "## Q1. 归并排序 (Merge Sort)\n",
    "$$T(N) = 2T(N/2) + O(N) \\qquad O(NlogN)$$\n"
   ]
  },
  {
   "cell_type": "code",
   "execution_count": 84,
   "metadata": {},
   "outputs": [
    {
     "data": {
      "text/plain": [
       "[1, 2, 3, 4, 5, 6, 7, 8, 9]"
      ]
     },
     "execution_count": 84,
     "metadata": {},
     "output_type": "execute_result"
    }
   ],
   "source": [
    "array = [9,7,5,4,8,6,1,3,2]\n",
    "\n",
    "def process(array, L, R):\n",
    "  if L == R:\n",
    "    return\n",
    "  mid = L + ((R-L)>>1)\n",
    "  process(array, L, mid)\n",
    "  process(array, mid+1, R)\n",
    "  merge(array, L, mid, R)\n",
    "\n",
    "def merge(array, L, mid, R):\n",
    "  neoArr = []\n",
    "  indexL = L\n",
    "  indexR = mid+1\n",
    "  \n",
    "  while(indexL<=mid and indexR<=R):\n",
    "    \n",
    "    if array[indexL]<=array[indexR]:\n",
    "      neoArr.append(array[indexL])\n",
    "      indexL += 1\n",
    "    else:\n",
    "      neoArr.append(array[indexR])\n",
    "      indexR += 1\n",
    "  neoArr += array[indexR:R+1] if indexL>mid else array[indexL:mid+1]\n",
    "  array[L:R+1] = neoArr[:]\n",
    "\n",
    "process(array, 0, len(array)-1)\n",
    "array\n",
    "    "
   ]
  },
  {
   "cell_type": "markdown",
   "metadata": {},
   "source": [
    "### Q1.1归并排序的扩展——小和问题和逆序对问题  \n",
    "#### 小和问题  \n",
    "在一个数组中，每一个数左边比当前数小的数累加起来，叫做这个数组的小和。求- -个数组的小和。  \n",
    "例子:[1, 3, 4, 2, 5]  \n",
    "1左边比1小的数，没有;  \n",
    "3左边比3小的数，1;  \n",
    "4左边比4小的数，1、3;  \n",
    "2左边比2小的数，1;  \n",
    "5左边比5小的数，1、 3、4、2;  \n",
    "所以小和为1+1+3+1+1+3+4+2=16  "
   ]
  },
  {
   "cell_type": "code",
   "execution_count": 85,
   "metadata": {},
   "outputs": [
    {
     "name": "stdout",
     "output_type": "stream",
     "text": [
      "[1, 2, 3, 4, 5]\n",
      "16\n"
     ]
    }
   ],
   "source": [
    "array = [1,3,4,2,5]\n",
    "\n",
    "def process(array, L, R):\n",
    "  if L == R:\n",
    "    return 0\n",
    "  mid = L + ((R-L)>>1)\n",
    "  sum1 = process(array, L, mid)\n",
    "  sum2 = process(array, mid+1, R)\n",
    "  return sum1+ sum2+ merge(array, L, mid, R)\n",
    "\n",
    "def merge(array, L, mid, R):\n",
    "  neoArr = []\n",
    "  indexL = L\n",
    "  indexR = mid+1\n",
    "  subSum = 0\n",
    "  \n",
    "  while(indexL<=mid and indexR<=R):\n",
    "    \n",
    "    if array[indexL]<array[indexR]:\n",
    "      neoArr.append(array[indexL])\n",
    "      subSum += (R-indexR+1)*array[indexL]\n",
    "      indexL += 1\n",
    "    else:\n",
    "      neoArr.append(array[indexR])\n",
    "      indexR += 1\n",
    "  neoArr += array[indexR:R+1] if indexL>mid else array[indexL:mid+1]\n",
    "  array[L:R+1] = neoArr[:]\n",
    "  return subSum\n",
    "\n",
    "sum = process(array, 0, len(array)-1)\n",
    "print(array)\n",
    "print(sum)"
   ]
  },
  {
   "cell_type": "markdown",
   "metadata": {},
   "source": [
    "#### 逆序对问题\n",
    "在一个数组中，左边的数如果比右边的数大，则折两个数构成一个逆序对，请打印所有逆序对。"
   ]
  },
  {
   "cell_type": "code",
   "execution_count": 86,
   "metadata": {},
   "outputs": [
    {
     "name": "stdout",
     "output_type": "stream",
     "text": [
      "[5, 4, 3, 2, 1, 0]\n",
      "[[5, 0], [2, 0], [4, 2], [4, 0], [3, 2], [3, 0], [1, 0]]\n"
     ]
    }
   ],
   "source": [
    "array = [1,3,4,2,5,0]\n",
    "\n",
    "def process(array, L, R):\n",
    "  if L == R:\n",
    "    return []\n",
    "  mid = L + ((R-L)>>1)\n",
    "  sum1 = process(array, L, mid)\n",
    "  sum2 = process(array, mid+1, R)\n",
    "  return sum1+ sum2+ merge(array, L, mid, R)\n",
    "\n",
    "def merge(array, L, mid, R):\n",
    "  neoArr = []\n",
    "  indexL = L\n",
    "  indexR = mid+1\n",
    "  paires = []\n",
    "  \n",
    "  while(indexL<=mid and indexR<=R):\n",
    "    \n",
    "    if array[indexL]>array[indexR]:\n",
    "      neoArr.append(array[indexL])\n",
    "      for num in array[indexR:R+1]:\n",
    "        paires.append([array[indexL], num])\n",
    "      indexL += 1\n",
    "    else:\n",
    "      neoArr.append(array[indexR])\n",
    "      indexR += 1\n",
    "  neoArr += array[indexR:R+1] if indexL>mid else array[indexL:mid+1]\n",
    "  array[L:R+1] = neoArr[:]\n",
    "  return paires\n",
    "\n",
    "sum = process(array, 0, len(array)-1)\n",
    "print(array)\n",
    "print(sum)"
   ]
  },
  {
   "cell_type": "markdown",
   "metadata": {},
   "source": [
    "### Q2 荷兰旗问题\n",
    "#### 问题一\n",
    "给定一一个数组arr，和一个数num，请把小于等于num的数放在数组的左边，大于num的数放在数组的右边。  \n",
    "要求额外空间复杂度0(1)，时间复杂度0 (N)  \n",
    "#### 问题二(荷兰国旗问题)\n",
    "给定一-个数组arr，和一个数num，请把小于num的数放在数组的左边，等于num的数放在数组的中间，大于num的数放在数组的右边。  \n",
    "要求额外空间复杂度0(1)，时间复杂度0 (N)\n"
   ]
  },
  {
   "cell_type": "markdown",
   "metadata": {},
   "source": [
    "### Q2.1 快速排序3.0(荷兰国旗问题递归形式)"
   ]
  },
  {
   "cell_type": "code",
   "execution_count": 87,
   "metadata": {},
   "outputs": [
    {
     "data": {
      "text/plain": [
       "[1, 2, 3, 4, 5, 6, 7, 8, 9]"
      ]
     },
     "execution_count": 87,
     "metadata": {},
     "output_type": "execute_result"
    }
   ],
   "source": [
    "array = [9,8,7,6,5,4,3,2,1]\n",
    "import random\n",
    "def partition(array, L, R):\n",
    "  target = array[R]\n",
    "  i, p0, p1 = L, L-1, R+1\n",
    "  \n",
    "  while i < p1:\n",
    "    if array[i] < target:\n",
    "      array[i], array[p0+1] = array[p0+1], array[i]\n",
    "      i += 1\n",
    "      p0 += 1\n",
    "    elif array[i] == target:\n",
    "      i += 1\n",
    "    else:\n",
    "      array[i], array[p1-1] = array[p1-1], array[i]\n",
    "      p1 -= 1\n",
    "  \n",
    "  return (p0, p1)\n",
    "\n",
    "def quickSort(array, L, R):\n",
    "  if L >= R:\n",
    "    return\n",
    "  randIndex = random.randrange(L, R+1)\n",
    "  array[randIndex], array[R] = array[R], array[randIndex]\n",
    "  p0, p1 = partition(array, L, R)\n",
    "  quickSort(array, L, p0)\n",
    "  quickSort(array, p1, R)\n",
    "  \n",
    "quickSort(array, 0, len(array)-1)\n",
    "array"
   ]
  },
  {
   "cell_type": "markdown",
   "metadata": {},
   "source": [
    "## Tip3. 堆\n",
    "### 数组表示二叉树\n",
    "![image1](images/logn排序-堆.png)"
   ]
  },
  {
   "cell_type": "markdown",
   "metadata": {},
   "source": [
    "1. 堆结构就是用数组实现的完全二叉树结构\n",
    "2. 完全二叉树中如果每棵子树的最大值都在顶部就是大根堆\n",
    "3. 完全二叉树中如果每棵子树的最小值都在顶部就是小根堆\n",
    "4. 堆结构的heap Insert与heapify操作\n",
    "5. 堆结构的增大和减少\n",
    "6. 优先级队列结构，就是堆结构\n",
    "#### 大根堆与小根堆\n",
    "二叉树中每一颗子树的头节点的值都是最大值，为大根堆。反之亦然。"
   ]
  },
  {
   "cell_type": "markdown",
   "metadata": {},
   "source": [
    "### Q1. HeapInsert\n",
    "根据用户依次的输入，调整数组保持为大根堆"
   ]
  },
  {
   "cell_type": "code",
   "execution_count": 88,
   "metadata": {},
   "outputs": [
    {
     "data": {
      "text/plain": [
       "[11, 7, 10, 5, 6, 6, 10, 1, 4, 2, 5, 3, 3, 8, 9]"
      ]
     },
     "execution_count": 88,
     "metadata": {},
     "output_type": "execute_result"
    }
   ],
   "source": [
    "# array的index位置表示用户输入的位置\n",
    "def heapInsert(array, index):\n",
    "  father = (index - 1) >> 1 if (index - 1) >> 1 >-1 else 0\n",
    "  while(array[index] > array[father]):\n",
    "    array[index], array[father] = array[father], array[index]\n",
    "    index = (index - 1) >> 1 if (index - 1) >> 1 >-1 else 0\n",
    "    father = (index - 1) >> 1 if (index - 1) >> 1 >-1 else 0\n",
    "\n",
    "array = [1,3,5,2,8,9,10,4,6,7,5,6,3,11,10]\n",
    "# 将上述数组转换为大根堆\n",
    "for index in range(len(array)):\n",
    "  heapInsert(array, index)\n",
    "array"
   ]
  },
  {
   "cell_type": "markdown",
   "metadata": {},
   "source": [
    "### Q2. Heapify\n",
    "某个数在index位置，能否向下移动"
   ]
  },
  {
   "cell_type": "code",
   "execution_count": 89,
   "metadata": {},
   "outputs": [
    {
     "data": {
      "text/plain": [
       "[5, 4, 2, 3, 1, 0]"
      ]
     },
     "execution_count": 89,
     "metadata": {},
     "output_type": "execute_result"
    }
   ],
   "source": [
    "def heapify(array, index, heapSize):\n",
    "  leftIndex = (index << 1) + 1\n",
    "  while(leftIndex < heapSize):\n",
    "    # 比较两个左右孩子\n",
    "    maxIndex = leftIndex + 1 if leftIndex + 1 < heapSize and array[leftIndex] < array[leftIndex+1] else leftIndex\n",
    "    # 比较index和最大的孩子\n",
    "    maxIndex = index if array[index] > array[maxIndex] else maxIndex\n",
    "    if maxIndex == index:\n",
    "      break\n",
    "    array[index], array[maxIndex] = array[maxIndex], array[index]\n",
    "    index = maxIndex\n",
    "    leftIndex = (index << 1) + 1\n",
    "array = [0,1,2,3,4,5]\n",
    "for index in range(len(array), -1, -1):\n",
    "    heapify(array, index, len(array))\n",
    "array"
   ]
  },
  {
   "cell_type": "markdown",
   "metadata": {},
   "source": [
    "### Q3.堆排序(HeapSort)\n",
    "将heapInsert与heapify结合进行排序"
   ]
  },
  {
   "cell_type": "code",
   "execution_count": 90,
   "metadata": {},
   "outputs": [
    {
     "data": {
      "text/plain": [
       "[1, 2, 3, 4, 5, 6, 7, 8, 9]"
      ]
     },
     "execution_count": 90,
     "metadata": {},
     "output_type": "execute_result"
    }
   ],
   "source": [
    "def heapSort(array):\n",
    "  if not array or len(array)<2:\n",
    "    return\n",
    "  heapSize = len(array)\n",
    "\n",
    "  # NlogN\n",
    "  # for index in range(heapSize):\n",
    "  #   heapInsert(array, index)\n",
    "\n",
    "  # N\n",
    "  for index in range(heapSize, -1, -1):\n",
    "    heapify(array, index, heapSize)\n",
    "  \n",
    "  heapSize -= 1\n",
    "  array[0], array[heapSize] = array[heapSize], array[0]\n",
    "  while heapSize:\n",
    "    heapify(array, 0, heapSize)\n",
    "    heapSize -= 1\n",
    "    array[0], array[heapSize] = array[heapSize], array[0]\n",
    "\n",
    "array = [5,8,4,3,2,7,1,9,6]\n",
    "heapSort(array)\n",
    "array\n"
   ]
  },
  {
   "cell_type": "markdown",
   "metadata": {},
   "source": [
    "### Q3. 堆排序扩展题目\n",
    "已知一个几乎有序的数组，几乎有序是指，如果把数组排好顺序的话，每个元素移动的距离可以不超过k，并且k相对于数组来说比较小。  \n",
    "请选择一个合适的排序算法针对这个数据进行排序。"
   ]
  },
  {
   "cell_type": "code",
   "execution_count": 91,
   "metadata": {},
   "outputs": [
    {
     "name": "stdout",
     "output_type": "stream",
     "text": [
      "1\n",
      "2\n",
      "3\n",
      "4\n",
      "5\n",
      "6\n",
      "7\n",
      "8\n",
      "9\n"
     ]
    }
   ],
   "source": [
    "from queue import PriorityQueue\n",
    "def heapSortLessK(array, k):\n",
    "  heap = PriorityQueue()\n",
    "  for num in array:\n",
    "    heap.put(num)\n",
    "  index = 0\n",
    "  while not heap.empty():\n",
    "    print(heap.get())\n",
    "    index += 1\n",
    "\n",
    "array = [9,8,7,6,5,4,3,2,1]\n",
    "heapSortLessK(array, 0)\n"
   ]
  },
  {
   "cell_type": "markdown",
   "metadata": {},
   "source": [
    "### Q4. 桶排序思想下的排序\n",
    "1)计数排序  \n",
    "2)基数排序  \n",
    "  \n",
    "分析:  \n",
    "1)桶排序思想下的排序都是不基于比较的排序  \n",
    "2)时间复杂度为0(N)，额外空间负载度0 (M)  \n",
    "3)应用范围有限，需要样本的数据状况满足桶的划分  \n"
   ]
  },
  {
   "cell_type": "code",
   "execution_count": 92,
   "metadata": {},
   "outputs": [
    {
     "data": {
      "text/plain": [
       "[0, 1, 15, 30, 37, 55, 56, 98, 99, 99, 100, 1800]"
      ]
     },
     "execution_count": 92,
     "metadata": {},
     "output_type": "execute_result"
    }
   ],
   "source": [
    "def getDigit(num, digit):\n",
    "  return int((num/10**digit)%10)\n",
    "\n",
    "def radixSort(array):\n",
    "  digits = len('{}'.format(max(array)))\n",
    "  for digit in range(digits):\n",
    "    count = [0]*10\n",
    "    for num in array:\n",
    "      digitNum = getDigit(num, digit)\n",
    "      count[digitNum] += 1\n",
    "    for index in range(len(count)-1):\n",
    "      count[index+1] += count[index]\n",
    "    busket = [0]*len(array)\n",
    "    for index in range(len(array)-1, -1, -1):\n",
    "      digitNum = getDigit(array[index], digit)\n",
    "      busket[count[digitNum]-1] = array[index]\n",
    "      count[digitNum] -= 1\n",
    "    for index in range(len(busket)):\n",
    "      array[index] = busket[index]\n",
    "\n",
    "array = [15,30,55,1,100,98,37,56,99,0,1800,99]\n",
    "radixSort(array)\n",
    "array"
   ]
  },
  {
   "cell_type": "markdown",
   "metadata": {},
   "source": [
    "## 排序稳定性\n",
    "\n",
    "1. $O(N^2)$  \n",
    "选择排序——不稳定  \n",
    "冒泡排序——稳定（相等值不交换）  \n",
    "插入排序——稳定（相等值不交换）  \n",
    "<br/>\n",
    "2. $O(N*log \\ N)$  \n",
    "归并排序——稳定（先拷贝左侧）  \n",
    "快速排序——不稳定（partition会破坏稳定）  \n",
    "堆排序——不稳定  \n",
    "<br/>  \n",
    "3. $O（N）$  \n",
    "基数排序——稳定"
   ]
  },
  {
   "cell_type": "markdown",
   "metadata": {},
   "source": [
    "## 总结\n",
    "| 名称 | 时间复杂度 | 空间复杂度 | 稳定性 |\n",
    "| :-: | :-: | :-: | :-: |\n",
    "| 选择排序 | $O(N^2)$ | $O(1)$ | × |\n",
    "| 冒泡排序 | $O(N^2)$ | $O(1)$ | √ |\n",
    "| 插入排序 | $O(N^2)$ | $O(1)$ | √ |\n",
    "| 归并排序 | $O(Nlog \\ N)$ | $O(N)$ | √ |\n",
    "| 快速排序 | $O(Nlog \\ N)$ | $O(log \\ N)$ | × |\n",
    "| 堆排序 | $O(Nlog \\ N)$ | $O(1)$ | × |"
   ]
  }
 ],
 "metadata": {
  "interpreter": {
   "hash": "e11480129368a01d12ff42b6e4a7be8d8b7191c75541135fdb1878e8ab2c7bd4"
  },
  "kernelspec": {
   "display_name": "Python 3.9.8 64-bit",
   "language": "python",
   "name": "python3"
  },
  "language_info": {
   "codemirror_mode": {
    "name": "ipython",
    "version": 3
   },
   "file_extension": ".py",
   "mimetype": "text/x-python",
   "name": "python",
   "nbconvert_exporter": "python",
   "pygments_lexer": "ipython3",
   "version": "3.9.8"
  },
  "orig_nbformat": 4
 },
 "nbformat": 4,
 "nbformat_minor": 2
}
