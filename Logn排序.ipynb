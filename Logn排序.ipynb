{
 "cells": [
  {
   "cell_type": "markdown",
   "metadata": {},
   "source": [
    "## Tip1. 求数组中点"
   ]
  },
  {
   "cell_type": "code",
   "execution_count": 9,
   "metadata": {},
   "outputs": [
    {
     "data": {
      "text/plain": [
       "2"
      ]
     },
     "execution_count": 9,
     "metadata": {},
     "output_type": "execute_result"
    }
   ],
   "source": [
    "l = 0\n",
    "r = 5\n",
    "mid = l + (r - l)/2\n",
    "int(mid)"
   ]
  },
  {
   "cell_type": "markdown",
   "metadata": {},
   "source": [
    "#### 写法2"
   ]
  },
  {
   "cell_type": "code",
   "execution_count": 10,
   "metadata": {},
   "outputs": [
    {
     "data": {
      "text/plain": [
       "2"
      ]
     },
     "execution_count": 10,
     "metadata": {},
     "output_type": "execute_result"
    }
   ],
   "source": [
    "mid = l + ((r - l) >> 1)\n",
    "mid"
   ]
  },
  {
   "cell_type": "markdown",
   "metadata": {},
   "source": [
    "### Tip2. Master公式\n",
    "$$T(N) = a*T(N/b) + O(N^d)$$\n",
    "$(N/b)$   代表一次递归中子问题N的规模  \n",
    "$a$       代表一次递归中进行子问题的个数  \n",
    "$O(N^d)$  代表递归中其他运算复杂度  "
   ]
  },
  {
   "cell_type": "markdown",
   "metadata": {},
   "source": [
    "$$log_b \\ a < d \\qquad O(N^d)$$\n",
    "$$log_b \\ a > d \\qquad O(N^{log_b a})$$\n",
    "$$log_b \\ a < d \\qquad O(N^d*log N)$$"
   ]
  },
  {
   "cell_type": "markdown",
   "metadata": {},
   "source": [
    "## Q1. 归并排序 (Merge Sort)\n",
    "$$T(N) = 2T(N/2) + O(N) \\qquad O(NlogN)$$\n"
   ]
  },
  {
   "cell_type": "code",
   "execution_count": 23,
   "metadata": {},
   "outputs": [
    {
     "data": {
      "text/plain": [
       "[1, 2, 3, 4, 5, 6, 7, 8, 9]"
      ]
     },
     "execution_count": 23,
     "metadata": {},
     "output_type": "execute_result"
    }
   ],
   "source": [
    "array = [9,7,5,4,8,6,1,3,2]\n",
    "\n",
    "def process(array, L, R):\n",
    "  if L == R:\n",
    "    return\n",
    "  mid = L + ((R-L)>>1)\n",
    "  process(array, L, mid)\n",
    "  process(array, mid+1, R)\n",
    "  merge(array, L, mid, R)\n",
    "\n",
    "def merge(array, L, mid, R):\n",
    "  neoArr = []\n",
    "  indexL = L\n",
    "  indexR = mid+1\n",
    "  \n",
    "  while(indexL<=mid and indexR<=R):\n",
    "    \n",
    "    if array[indexL]<=array[indexR]:\n",
    "      neoArr.append(array[indexL])\n",
    "      indexL += 1\n",
    "    else:\n",
    "      neoArr.append(array[indexR])\n",
    "      indexR += 1\n",
    "  neoArr += array[indexR:R+1] if indexL>mid else array[indexL:mid+1]\n",
    "  array[L:R+1] = neoArr[:]\n",
    "\n",
    "process(array, 0, len(array)-1)\n",
    "array\n",
    "    "
   ]
  },
  {
   "cell_type": "markdown",
   "metadata": {},
   "source": [
    "### Q1.1归并排序的扩展——小和问题和逆序对问题  \n",
    "#### 小和问题  \n",
    "在一个数组中，每一个数左边比当前数小的数累加起来，叫做这个数组的小和。求- -个数组的小和。  \n",
    "例子:[1, 3, 4, 2, 5]  \n",
    "1左边比1小的数，没有;  \n",
    "3左边比3小的数，1;  \n",
    "4左边比4小的数，1、3;  \n",
    "2左边比2小的数，1;  \n",
    "5左边比5小的数，1、 3、4、2;  \n",
    "所以小和为1+1+3+1+1+3+4+2=16  "
   ]
  },
  {
   "cell_type": "code",
   "execution_count": 45,
   "metadata": {},
   "outputs": [
    {
     "name": "stdout",
     "output_type": "stream",
     "text": [
      "[2, 2, 3, 4, 5]\n",
      "18\n"
     ]
    }
   ],
   "source": [
    "array = [1,3,4,2,5]\n",
    "\n",
    "def process(array, L, R):\n",
    "  if L == R:\n",
    "    return 0\n",
    "  mid = L + ((R-L)>>1)\n",
    "  sum1 = process(array, L, mid)\n",
    "  sum2 = process(array, mid+1, R)\n",
    "  return sum1+ sum2+ merge(array, L, mid, R)\n",
    "\n",
    "def merge(array, L, mid, R):\n",
    "  neoArr = []\n",
    "  indexL = L\n",
    "  indexR = mid+1\n",
    "  subSum = 0\n",
    "  \n",
    "  while(indexL<=mid and indexR<=R):\n",
    "    \n",
    "    if array[indexL]<array[indexR]:\n",
    "      neoArr.append(array[indexL])\n",
    "      subSum += (R-indexR+1)*array[indexL]\n",
    "      indexL += 1\n",
    "    else:\n",
    "      neoArr.append(array[indexR])\n",
    "      indexR += 1\n",
    "  neoArr += array[indexR:R+1] if indexL>mid else array[indexL:mid+1]\n",
    "  array[L:R+1] = neoArr[:]\n",
    "  return subSum\n",
    "\n",
    "sum = process(array, 0, len(array)-1)\n",
    "print(array)\n",
    "print(sum)"
   ]
  },
  {
   "cell_type": "markdown",
   "metadata": {},
   "source": [
    "#### 逆序对问题\n",
    "在一个数组中，左边的数如果比右边的数大，则折两个数构成一个逆序对，请打印所有逆序对。"
   ]
  },
  {
   "cell_type": "code",
   "execution_count": 48,
   "metadata": {},
   "outputs": [
    {
     "name": "stdout",
     "output_type": "stream",
     "text": [
      "[5, 4, 3, 2, 1, 0]\n",
      "[[5, 0], [2, 0], [4, 2], [4, 0], [3, 2], [3, 0], [1, 0]]\n"
     ]
    }
   ],
   "source": [
    "array = [1,3,4,2,5,0]\n",
    "\n",
    "def process(array, L, R):\n",
    "  if L == R:\n",
    "    return []\n",
    "  mid = L + ((R-L)>>1)\n",
    "  sum1 = process(array, L, mid)\n",
    "  sum2 = process(array, mid+1, R)\n",
    "  return sum1+ sum2+ merge(array, L, mid, R)\n",
    "\n",
    "def merge(array, L, mid, R):\n",
    "  neoArr = []\n",
    "  indexL = L\n",
    "  indexR = mid+1\n",
    "  paires = []\n",
    "  \n",
    "  while(indexL<=mid and indexR<=R):\n",
    "    \n",
    "    if array[indexL]>array[indexR]:\n",
    "      neoArr.append(array[indexL])\n",
    "      for num in array[indexR:R+1]:\n",
    "        paires.append([array[indexL], num])\n",
    "      indexL += 1\n",
    "    else:\n",
    "      neoArr.append(array[indexR])\n",
    "      indexR += 1\n",
    "  neoArr += array[indexR:R+1] if indexL>mid else array[indexL:mid+1]\n",
    "  array[L:R+1] = neoArr[:]\n",
    "  return paires\n",
    "\n",
    "sum = process(array, 0, len(array)-1)\n",
    "print(array)\n",
    "print(sum)"
   ]
  },
  {
   "cell_type": "markdown",
   "metadata": {},
   "source": [
    "### Q2 荷兰旗问题\n",
    "#### 问题一\n",
    "给定一一个数组arr，和一个数num，请把小于等于num的数放在数组的左边，大于num的数放在数组的右边。  \n",
    "要求额外空间复杂度0(1)，时间复杂度0 (N)  \n",
    "#### 问题二(荷兰国旗问题)\n",
    "给定一-个数组arr，和一个数num，请把小于num的数放在数组的左边，等于num的数放在数组的中间，大于num的数放在数组的右边。  \n",
    "要求额外空间复杂度0(1)，时间复杂度0 (N)\n"
   ]
  },
  {
   "cell_type": "markdown",
   "metadata": {},
   "source": [
    "### Q2.1 快速排序3.0(荷兰国旗问题递归形式)"
   ]
  },
  {
   "cell_type": "code",
   "execution_count": 66,
   "metadata": {},
   "outputs": [
    {
     "data": {
      "text/plain": [
       "[1, 2, 3, 4, 5, 6, 7, 8, 9]"
      ]
     },
     "execution_count": 66,
     "metadata": {},
     "output_type": "execute_result"
    }
   ],
   "source": [
    "array = [9,8,7,6,5,4,3,2,1]\n",
    "import random\n",
    "def partition(array, L, R):\n",
    "  target = array[R]\n",
    "  i, p0, p1 = L, L-1, R+1\n",
    "  \n",
    "  while i < p1:\n",
    "    if array[i] < target:\n",
    "      array[i], array[p0+1] = array[p0+1], array[i]\n",
    "      i += 1\n",
    "      p0 += 1\n",
    "    elif array[i] == target:\n",
    "      i += 1\n",
    "    else:\n",
    "      array[i], array[p1-1] = array[p1-1], array[i]\n",
    "      p1 -= 1\n",
    "  \n",
    "  return (p0, p1)\n",
    "\n",
    "def quickSort(array, L, R):\n",
    "  if L >= R:\n",
    "    return\n",
    "  randIndex = random.randrange(L, R+1)\n",
    "  array[randIndex], array[R] = array[R], array[randIndex]\n",
    "  p0, p1 = partition(array, L, R)\n",
    "  quickSort(array, L, p0)\n",
    "  quickSort(array, p1, R)\n",
    "  \n",
    "quickSort(array, 0, len(array)-1)\n",
    "array"
   ]
  }
 ],
 "metadata": {
  "interpreter": {
   "hash": "e11480129368a01d12ff42b6e4a7be8d8b7191c75541135fdb1878e8ab2c7bd4"
  },
  "kernelspec": {
   "display_name": "Python 3.9.8 64-bit",
   "language": "python",
   "name": "python3"
  },
  "language_info": {
   "codemirror_mode": {
    "name": "ipython",
    "version": 3
   },
   "file_extension": ".py",
   "mimetype": "text/x-python",
   "name": "python",
   "nbconvert_exporter": "python",
   "pygments_lexer": "ipython3",
   "version": "3.9.8"
  },
  "orig_nbformat": 4
 },
 "nbformat": 4,
 "nbformat_minor": 2
}
